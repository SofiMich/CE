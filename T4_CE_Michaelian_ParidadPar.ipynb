{
  "nbformat": 4,
  "nbformat_minor": 0,
  "metadata": {
    "colab": {
      "provenance": [],
      "authorship_tag": "ABX9TyNSg78KWg7PnNH70r8v0vt0",
      "include_colab_link": true
    },
    "kernelspec": {
      "name": "python3",
      "display_name": "Python 3"
    },
    "language_info": {
      "name": "python"
    }
  },
  "cells": [
    {
      "cell_type": "markdown",
      "metadata": {
        "id": "view-in-github",
        "colab_type": "text"
      },
      "source": [
        "<a href=\"https://colab.research.google.com/github/SofiMich/CE/blob/main/T4_CE_Michaelian_ParidadPar.ipynb\" target=\"_parent\"><img src=\"https://colab.research.google.com/assets/colab-badge.svg\" alt=\"Open In Colab\"/></a>"
      ]
    },
    {
      "cell_type": "markdown",
      "source": [
        "#1. Problema de paridad par sin función XOR\n",
        "Para este problema vamos a utilizar las compuertas lógicas AND, NOT y OR para simular el resultado de la función de paridad par:\n",
        "\n",
        "\n",
        "| $A$ | $B$ | $C$ |Paridad\n",
        "| -------- |:-------:| -----:|-----:|\n",
        "|0 |0 |0| 1|\n",
        "|0 |0 |1| 0|\n",
        "|0 |1 |0| 0|\n",
        "|0 |1 |1| 1|\n",
        "|1 |0 |0| 0|\n",
        "|1 |0 |1| 1|\n",
        "|1 |1 |0| 1|\n",
        "|1 |1 |1| 0|\n",
        "\n",
        "La esrtuctura de los individuos sera de árboles o listas igadas. En cada nodo puede haber una compuerta lógica o un nodo terminal (0, 1, A, B, C).\n"
      ],
      "metadata": {
        "id": "CVa0cvPSbgSX"
      }
    },
    {
      "cell_type": "code",
      "source": [
        "import numpy as np\n",
        "import pandas as pd\n",
        "import math\n",
        "import random"
      ],
      "metadata": {
        "id": "vrFc8RgVfYoT"
      },
      "execution_count": null,
      "outputs": []
    },
    {
      "cell_type": "code",
      "source": [
        "def AND(x,y):\n",
        "  return int(x and y)\n",
        "\n",
        "def OR(x,y):\n",
        "  return int(x or y)\n",
        "\n",
        "def NOT(x):\n",
        "  return int(not x)\n",
        "\n",
        "def XOR(x,y):\n",
        "  return int((not x and y) or (x and not y))\n",
        "\n",
        "A, B, C = 0, 1, 1"
      ],
      "metadata": {
        "id": "mptU_51bdpYP"
      },
      "execution_count": null,
      "outputs": []
    },
    {
      "cell_type": "code",
      "source": [
        "XOR(0,0)"
      ],
      "metadata": {
        "colab": {
          "base_uri": "https://localhost:8080/"
        },
        "id": "-v7bHagDZ1sk",
        "outputId": "c6518727-12c7-4555-b6c2-0621c0bbae9e"
      },
      "execution_count": null,
      "outputs": [
        {
          "output_type": "execute_result",
          "data": {
            "text/plain": [
              "0"
            ]
          },
          "metadata": {},
          "execution_count": 3
        }
      ]
    },
    {
      "cell_type": "code",
      "source": [
        "funciones = {\n",
        "  '&' : AND,\n",
        "  '^' : OR,\n",
        "  '!' : NOT\n",
        "}\n",
        "\n",
        "funcionesx = {\n",
        "  '&' : AND,\n",
        "  '^' : OR,\n",
        "  '!' : NOT,\n",
        "  'x': XOR\n",
        "}\n",
        "\n",
        "\n",
        "arguments = {\n",
        "  '&' : 2,\n",
        "  '^' : 2,\n",
        "  '!' : 1,\n",
        "  'x': 2\n",
        "}\n",
        "\n",
        "terminals = {\n",
        "  '0' : 0,\n",
        "  '1' : 1,\n",
        "  'A' : A,\n",
        "  'B' : B,\n",
        "  'C' : C\n",
        "}"
      ],
      "metadata": {
        "id": "grSocGnCa6rH"
      },
      "execution_count": null,
      "outputs": []
    },
    {
      "cell_type": "code",
      "source": [
        "A = 0\n",
        "B = 1\n",
        "C = 0"
      ],
      "metadata": {
        "id": "v1oJ6PPIvaVu"
      },
      "execution_count": null,
      "outputs": []
    },
    {
      "cell_type": "code",
      "source": [
        "def seleccionarOp(individuo, nNodos,  nMaxNodos, nFunc, nMaxFunc, nArg, listaFunc, listaTerms):\n",
        "  if ((nNodos < nMaxNodos) and (nArg > 0)):\n",
        "    #print(nNodos)\n",
        "    r = random.randint(1,10)\n",
        "    #print(r)\n",
        "\n",
        "    if ((r <= 5) and (nFunc < nMaxFunc)):\n",
        "      #print('Seleccionando función')\n",
        "      token = np.random.choice(listaFunc)\n",
        "      nArg = nArg + arguments[token]\n",
        "      nFunc = nFunc + 1\n",
        "      \n",
        "    else:\n",
        "      #print('Seleccionando terminal')\n",
        "      token = np.random.choice(listaTerms)\n",
        "\n",
        "    nNodos = nNodos + 1\n",
        "    nArg = nArg - 1\n",
        "    individuo.append(token)\n",
        "    #print(nNodos, token, nArg)\n",
        "\n",
        "    if ((nNodos < nMaxNodos) and (nArg > 0)):\n",
        "      seleccionarOp(individuo, nNodos,  nMaxNodos, nFunc, nMaxFunc, nArg, listaFunc, listaTerms)\n",
        "    \n",
        "  return individuo"
      ],
      "metadata": {
        "id": "GyNVDntPsXnM"
      },
      "execution_count": null,
      "outputs": []
    },
    {
      "cell_type": "code",
      "source": [
        "def crearIndividuo(nMaxNodos, listaFunc, listaTerms):\n",
        "  individuo = []\n",
        "  nMaxFunc = nMaxNodos/2 - 1\n",
        "  nNodos = 0\n",
        "  nFunc = 0\n",
        "  nArg = 1\n",
        "  indivuduo = seleccionarOp(individuo, nNodos,  nMaxNodos, nFunc, nMaxFunc, nArg, listaFunc, listaTerms)\n",
        "  l = len(individuo)\n",
        "  n = nMaxNodos - len(individuo)\n",
        "  ceros = ['0']*n\n",
        "  individuo = individuo + ceros\n",
        "  return individuo, l"
      ],
      "metadata": {
        "id": "xodEcbaH1QTq"
      },
      "execution_count": null,
      "outputs": []
    },
    {
      "cell_type": "code",
      "source": [
        "def crearPoblacion(nInd, nMaxNodos, listaFunc, listaTerms):\n",
        "  pob = []\n",
        "  l = []\n",
        "  for i in range(nInd):\n",
        "    individuo, l = crearIndividuo(nMaxNodos, listaFunc, listaTerms)\n",
        "    pob.append([individuo, l, 0])\n",
        "  return pob"
      ],
      "metadata": {
        "id": "D_vLCRKPXFZ_"
      },
      "execution_count": null,
      "outputs": []
    },
    {
      "cell_type": "code",
      "source": [
        "paridad = {\n",
        "    '000' : 1,\n",
        "    '001' : 0,\n",
        "    '010' : 0,\n",
        "    '011' : 1,\n",
        "    '100' : 0,\n",
        "    '101' : 1,\n",
        "    '110' : 1,\n",
        "    '111' : 0\n",
        "}"
      ],
      "metadata": {
        "id": "mRHFtjGupomm"
      },
      "execution_count": null,
      "outputs": []
    },
    {
      "cell_type": "code",
      "source": [
        "def parse(tokens, terminals, functions):\n",
        "  if (len(tokens)) > 0:\n",
        "    token = tokens.pop(0)\n",
        "    #print(token)\n",
        "    if token in functions:\n",
        "        #print('functions')\n",
        "        if arguments[token] == 1:\n",
        "          #print('1 arg')\n",
        "          return functions[token](parse(tokens, terminals, functions))\n",
        "        elif arguments[token] == 2:\n",
        "          #print('2 args')\n",
        "          return functions[token](parse(tokens, terminals, functions), parse(tokens, terminals, functions))\n",
        "    else:\n",
        "        #print('terminal')\n",
        "        return terminals[token]\n",
        "  else:\n",
        "    return 1"
      ],
      "metadata": {
        "id": "j7XPUW0nquRg"
      },
      "execution_count": null,
      "outputs": []
    },
    {
      "cell_type": "code",
      "source": [
        "def evaluarIndividuo(individuo, objetivo, functions):\n",
        "  error = 0\n",
        "  for key in objetivo:\n",
        "    y_expected = objetivo[key]\n",
        "    A, B, C = tuple(map(int, tuple(key)))\n",
        "    terminales = {\n",
        "    '0' : 0,\n",
        "    '1' : 1,\n",
        "    'A' : A,\n",
        "    'B' : B,\n",
        "    'C' : C\n",
        "    }\n",
        "    l = individuo[1]\n",
        "    #print(l)\n",
        "    if l > 0:\n",
        "      #print(individuo[0][0:l])\n",
        "      tokens = individuo[0][0:l]\n",
        "      #print(key)\n",
        "      y = parse(tokens, terminales, functions)\n",
        "    else:\n",
        "      y = 0\n",
        "    error = error + abs(y-y_expected)\n",
        "  error = error / len(objetivo)\n",
        "  individuo[-1] = error\n",
        "  #print('ya lo evalué')\n",
        "  #print(individuo)\n",
        "  return individuo, error"
      ],
      "metadata": {
        "id": "iTr96TlplaCG"
      },
      "execution_count": null,
      "outputs": []
    },
    {
      "cell_type": "code",
      "source": [
        "def evaluarPoblacion(pob, objetivo, functions):\n",
        "  #print('evaluar pob')\n",
        "  x = np.zeros(len(pob))\n",
        "  for i in range(len(pob)):\n",
        "    pob[i], x[i] = evaluarIndividuo(pob[i], objetivo, functions)\n",
        "  return pob, x"
      ],
      "metadata": {
        "id": "kt89OwgyeG7K"
      },
      "execution_count": null,
      "outputs": []
    },
    {
      "cell_type": "markdown",
      "source": [
        "### Calcular Fitness"
      ],
      "metadata": {
        "id": "r8OQfpdMTfu1"
      }
    },
    {
      "cell_type": "code",
      "source": [
        "def calcularFitness(pob):\n",
        "  #print('calcularF')\n",
        "  total = np.sum(pob, axis = 0)[-1]\n",
        "  for i in range(len(pob)):\n",
        "    pob[i][-1] = pob[i][-1] / (total + np.nextafter(0,1))\n",
        "  return pob"
      ],
      "metadata": {
        "id": "e_zoFdeyADri"
      },
      "execution_count": null,
      "outputs": []
    },
    {
      "cell_type": "markdown",
      "source": [
        "### Calcular probabilidad de selección"
      ],
      "metadata": {
        "id": "dgjcfuyrTju3"
      }
    },
    {
      "cell_type": "code",
      "source": [
        "def calcularPS(x):\n",
        "  #print('calcularPS')\n",
        "  total = np.sum(x, axis = 0)[-1]\n",
        "  \n",
        "  for i in x:\n",
        "    if i[-1]/total >= 0:\n",
        "        i[-1] = i[-1]/total\n",
        "    else:\n",
        "        print('Probabilidad negativa!!!')\n",
        "        print(i)\n",
        "        i[-1] = np.nextafter(0,1)\n",
        "  return x"
      ],
      "metadata": {
        "id": "X8Vv04EZHMxq"
      },
      "execution_count": null,
      "outputs": []
    },
    {
      "cell_type": "markdown",
      "source": [
        "### Seleccionar individuos para el pool de cruza"
      ],
      "metadata": {
        "id": "mIJY-DMtTptB"
      }
    },
    {
      "cell_type": "code",
      "source": [
        "def seleccionarRuleta(pob):\n",
        "  #print('seleccionarRuleta')\n",
        "  pool = []\n",
        "  pob = calcularFitness(pob)\n",
        "  proba = np.zeros(len(pob))\n",
        "  for i in range(len(pob)):\n",
        "    proba[i] = pob[i][-1]\n",
        "    \n",
        "  for i in range(len(pob)):\n",
        "    r = np.random.choice(range(len(pob)), p = proba)\n",
        "    pool.append(pob[r][0:2])\n",
        "  return pool"
      ],
      "metadata": {
        "id": "1ZKIj-GkTH76"
      },
      "execution_count": null,
      "outputs": []
    },
    {
      "cell_type": "code",
      "source": [
        "def seleccionarTorneo(pob):\n",
        "  #print('seleccionarTorneo')\n",
        "  pool = []\n",
        "\n",
        "  for i in range(len(pob)):\n",
        "    j = random.choice(range(len(pob)))\n",
        "    k = random.choice(range(len(pob)))\n",
        "    if pob[j][-1] <= pob[k][-1]:\n",
        "      pool.append(pob[j][0:2])\n",
        "    else:\n",
        "      pool.append(pob[k][0:2])\n",
        "  return pool"
      ],
      "metadata": {
        "id": "LOubrs74xsaZ"
      },
      "execution_count": null,
      "outputs": []
    },
    {
      "cell_type": "code",
      "source": [
        "random.randint(0,1)"
      ],
      "metadata": {
        "colab": {
          "base_uri": "https://localhost:8080/"
        },
        "id": "8o9VeStBz5aV",
        "outputId": "b240b7ef-4784-40d4-ad38-030146427f81"
      },
      "execution_count": null,
      "outputs": [
        {
          "output_type": "execute_result",
          "data": {
            "text/plain": [
              "0"
            ]
          },
          "metadata": {},
          "execution_count": 17
        }
      ]
    },
    {
      "cell_type": "markdown",
      "source": [
        "### Cruza"
      ],
      "metadata": {
        "id": "S8uar40VADa2"
      }
    },
    {
      "cell_type": "code",
      "source": [
        "def cruzar(pool, pc):\n",
        "  #print('cruzar')\n",
        "  nuevaGen = []\n",
        "\n",
        "  l = len(pool[0][0])\n",
        "\n",
        "  for i in range(len(pool)//2):\n",
        "    \n",
        "    padre1 = pool[2*i][0]\n",
        "    l1 = pool[2*i][1]\n",
        "\n",
        "    padre2 = pool[2*i+1][0]\n",
        "    l2 = pool[2*i+1][1]\n",
        "\n",
        "    r = random.uniform(0,1)\n",
        "\n",
        "    if r <= pc:\n",
        "      \n",
        "      n1 = random.randint(0,l1-1)\n",
        "      n2 = random.randint(0,l2-1)\n",
        "      \n",
        "      f1 = n1+(l2-n2)\n",
        "      f2 = n2+(l1-n1)\n",
        "\n",
        "      if (f1 <= l) and (f2 <= l):\n",
        "        #print('cruzando')\n",
        "\n",
        "        ceros = ['0']*(l-f1)\n",
        "        hijo1 = padre1[0:n1]+padre2[n2:l2]+ceros\n",
        "\n",
        "        ceros = ['0']*(l-f2)\n",
        "        hijo2 = padre2[0:n2]+padre1[n1:l1]+ceros\n",
        "\n",
        "      else:\n",
        "        hijo1 = padre1\n",
        "        hijo2 = padre2\n",
        "        f1 = l1\n",
        "        f2 = l2\n",
        "    \n",
        "    else:\n",
        "      hijo1 = padre1\n",
        "      hijo2 = padre2\n",
        "      f1 = l1\n",
        "      f2 = l2\n",
        "\n",
        "    #print(hijo1, hijo2)\n",
        "    nuevaGen.append([hijo1, f1, 0])\n",
        "    nuevaGen.append([hijo2, f2, 0])\n",
        "\n",
        "  return nuevaGen\n",
        "    "
      ],
      "metadata": {
        "id": "GY9YyotVZfua"
      },
      "execution_count": null,
      "outputs": []
    },
    {
      "cell_type": "markdown",
      "source": [
        "### Mutación"
      ],
      "metadata": {
        "id": "9tHiOGhujLL-"
      }
    },
    {
      "cell_type": "code",
      "source": [
        "def mutar(nuevaGen, listaFunc, listaTerms, pm = 1):\n",
        "  #print('mutar')\n",
        "  l = len(nuevaGen[0][0])\n",
        "  #print(l)\n",
        "\n",
        "  for i in range(len(nuevaGen)):\n",
        "    prob = random.uniform(np.nextafter(0,1),1.0)\n",
        "    if prob <= pm:\n",
        "      l1 = nuevaGen[i][1]\n",
        "      #print(l1)\n",
        "      n = random.randint(0,l1-1)\n",
        "      mutacion = crearIndividuo(l-n, listaFunc, listaTerms)\n",
        "      #print(nuevaGen[i], mutacion, n)\n",
        "      #ceros = ['0']*(n+)\n",
        "      nuevaGen[i][0] = nuevaGen[i][0][0:n] + mutacion[0]\n",
        "      nuevaGen[i][1] = n + mutacion[1]\n",
        "      #print(nuevaGen[i])\n",
        "  return nuevaGen"
      ],
      "metadata": {
        "id": "ny1aPXv-jTAE"
      },
      "execution_count": null,
      "outputs": []
    },
    {
      "cell_type": "markdown",
      "source": [
        "# Elitismo"
      ],
      "metadata": {
        "id": "i915EWeiMhFy"
      }
    },
    {
      "cell_type": "code",
      "source": [
        "def elitismo1(pob, nuevaGen, mejor, functions, objetivo):\n",
        "  #print('elitismo1')\n",
        "  #print(mejor)\n",
        "  retadores = nuevaGen\n",
        "  retadores, y = evaluarPoblacion(retadores, objetivo, functions)\n",
        "  indMax = np.where(y == np.max(y))[0][0]\n",
        "  nuevaGen[indMax] = mejor\n",
        "  #print(nuevaGen[indMax])\n",
        "  return nuevaGen"
      ],
      "metadata": {
        "id": "6QAUS__WdQNK"
      },
      "execution_count": null,
      "outputs": []
    },
    {
      "cell_type": "code",
      "source": [
        "def elitismoT(pob, nuevaGen, mejor, functions, objetivo):\n",
        "    #print('elitismoT')\n",
        "    nInd = len(pob)\n",
        "    torneo = pob + nuevaGen\n",
        "    torneo, y = evaluarPoblacion(torneo, objetivo, functions)\n",
        "    indMin = np.argpartition(y, nInd) \n",
        "    j = 0\n",
        "    for k in range(nInd):\n",
        "      nuevaGen[k] = (np.array(torneo, dtype=object)[indMin.astype(int)][j]).tolist()\n",
        "      j = (j + 1)% nInd\n",
        "    return nuevaGen"
      ],
      "metadata": {
        "id": "jgvf4rYges1Y"
      },
      "execution_count": null,
      "outputs": []
    },
    {
      "cell_type": "markdown",
      "source": [
        "# Evolucionar"
      ],
      "metadata": {
        "id": "m4hSlfPi3L6L"
      }
    },
    {
      "cell_type": "code",
      "source": [
        "def evolucionar(nInd, nMaxNodos, ngeneraciones, pc, pm, objetivo, functions, terminals, seleccionar, elitismo, nombre):\n",
        "  mejor = []  \n",
        "  promedio = np.zeros(ngeneraciones)\n",
        "\n",
        "  listaFunc = list(functions.keys())\n",
        "  #print(listaFunc)\n",
        "  listaTerms = list(terminals.keys())\n",
        "\n",
        "  pob = crearPoblacion(nInd, nMaxNodos, listaFunc, listaTerms)\n",
        "  #print(pob)\n",
        "\n",
        "  for i in range(ngeneraciones):\n",
        "\n",
        "    #print(i)\n",
        "    pob, x = evaluarPoblacion(pob, objetivo, functions)\n",
        "    #print(pob)\n",
        "\n",
        "    indMin = np.where(x == np.min(x))[0][0]\n",
        "    \n",
        "    #print(np.where(x == np.min(x))[0][0])\n",
        "    mejor.append(pob[indMin]) #guardamos al individuo con el mejor desempeño\n",
        "  \n",
        "    promedio[i] = np.sum(x) / len(pob) #calculamos el promedio del desempeño de la población\n",
        "\n",
        "    pool = seleccionar(pob)\n",
        "    #print(pob)\n",
        "\n",
        "    nuevaGen = cruzar(pool, pc)\n",
        "    #print(nuevaGen)\n",
        "\n",
        "    nuevaGen = mutar(nuevaGen, listaFunc, listaTerms, pm)\n",
        "    #print(nuevaGen)\n",
        "\n",
        "    #Elitismo:\n",
        "    nuevaGen = elitismo(pob, nuevaGen, mejor[i], functions, objetivo)\n",
        "    #print(nuevaGen)\n",
        "\n",
        "    pob = nuevaGen\n",
        "\n",
        "# Graficar\n",
        "  import matplotlib.pyplot as plt\n",
        "\n",
        "  plt.axes(xlabel='Generación', ylabel = 'Error')\n",
        "  plt.title('Desempeño ' + str(nInd) + ' individuos en ' +str(ngeneraciones) + ' generaciones\\n '+ nombre)\n",
        "\n",
        "  mejores, y = evaluarPoblacion(mejor, objetivo, functions)\n",
        "  plt.plot(promedio)\n",
        "  plt.plot(y)\n",
        "  #print(y)\n",
        "\n",
        "  plt.legend(labels=[\"Promedio\",\"Mejor individuo\"])\n",
        "  plt.show\n",
        "\n",
        "  return mejores\n"
      ],
      "metadata": {
        "id": "3DUTCHVfoYWS"
      },
      "execution_count": null,
      "outputs": []
    },
    {
      "cell_type": "code",
      "source": [
        "random.seed(42)"
      ],
      "metadata": {
        "id": "6UJDdUhaCh1l"
      },
      "execution_count": null,
      "outputs": []
    },
    {
      "cell_type": "code",
      "source": [
        "nGen = 100\n",
        "nInd = 60\n",
        "pc = 0.7\n",
        "pm = 0.1\n",
        "nMaxNodos = 20"
      ],
      "metadata": {
        "id": "Rrv3V_bZ79dE"
      },
      "execution_count": null,
      "outputs": []
    },
    {
      "cell_type": "code",
      "source": [
        "mejoresX = evolucionar(nInd, nMaxNodos, nGen, pc, pm, paridad, funcionesx, terminals, seleccionarTorneo, elitismoT, 'Selección por torneo, elitismo total, con XOR')"
      ],
      "metadata": {
        "id": "ITfanZHp4FC1",
        "colab": {
          "base_uri": "https://localhost:8080/",
          "height": 310
        },
        "outputId": "57e35acb-84d3-4788-db97-2f49cc2a4ba8"
      },
      "execution_count": null,
      "outputs": [
        {
          "output_type": "display_data",
          "data": {
            "text/plain": [
              "<Figure size 432x288 with 1 Axes>"
            ],
            "image/png": "[encoded data removed]"
          },
          "metadata": {
            "needs_background": "light"
          }
        }
      ]
    },
    {
      "cell_type": "code",
      "source": [
        "mejoresX = evolucionar(nInd, nMaxNodos, nGen, pc, pm, paridad, funciones, terminals, seleccionarTorneo, elitismoT, 'Selección por torneo, elitismo total, sin XOR')"
      ],
      "metadata": {
        "colab": {
          "base_uri": "https://localhost:8080/",
          "height": 310
        },
        "id": "RMso_3gbjHWT",
        "outputId": "470f6d41-7412-4788-b022-fe62720e5cff"
      },
      "execution_count": null,
      "outputs": [
        {
          "output_type": "display_data",
          "data": {
            "text/plain": [
              "<Figure size 432x288 with 1 Axes>"
            ],
            "image/png": "[encoded data removed]"
          },
          "metadata": {
            "needs_background": "light"
          }
        }
      ]
    },
    {
      "cell_type": "code",
      "source": [
        "mejoresX = evolucionar(nInd, nMaxNodos, nGen, pc, pm, paridad, funcionesx, terminals, seleccionarTorneo, elitismo1, 'Selección por torneo, elitismo 1, con XOR')"
      ],
      "metadata": {
        "colab": {
          "base_uri": "https://localhost:8080/",
          "height": 310
        },
        "id": "zU417MUrLcjP",
        "outputId": "1a11381b-7493-44b6-c01f-d141a9409d04"
      },
      "execution_count": null,
      "outputs": [
        {
          "output_type": "display_data",
          "data": {
            "text/plain": [
              "<Figure size 432x288 with 1 Axes>"
            ],
            "image/png": "[encoded data removed]"
          },
          "metadata": {
            "needs_background": "light"
          }
        }
      ]
    },
    {
      "cell_type": "code",
      "source": [
        "mejoresX = evolucionar(nInd, nMaxNodos, nGen, pc, pm, paridad, funciones, terminals, seleccionarTorneo, elitismo1, 'Selección por torneo, elitismo 1, sin XOR')"
      ],
      "metadata": {
        "colab": {
          "base_uri": "https://localhost:8080/",
          "height": 310
        },
        "id": "u6idCh1Dsjts",
        "outputId": "27bc2ebf-7b43-4af1-a50b-fb3199f976ed"
      },
      "execution_count": null,
      "outputs": [
        {
          "output_type": "display_data",
          "data": {
            "text/plain": [
              "<Figure size 432x288 with 1 Axes>"
            ],
            "image/png": "[encoded data removed]"
          },
          "metadata": {
            "needs_background": "light"
          }
        }
      ]
    },
    {
      "cell_type": "code",
      "source": [],
      "metadata": {
        "id": "rHTykpaRtC3K"
      },
      "execution_count": null,
      "outputs": []
    }
  ]
}