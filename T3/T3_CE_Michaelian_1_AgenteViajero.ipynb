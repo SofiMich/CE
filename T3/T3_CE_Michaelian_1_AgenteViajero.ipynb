{
  "nbformat": 4,
  "nbformat_minor": 0,
  "metadata": {
    "colab": {
      "provenance": [],
      "collapsed_sections": [],
      "authorship_tag": "ABX9TyMKiSCgvlK09tu9jI55ghyb",
      "include_colab_link": true
    },
    "kernelspec": {
      "name": "python3",
      "display_name": "Python 3"
    },
    "language_info": {
      "name": "python"
    }
  },
  "cells": [
    {
      "cell_type": "markdown",
      "metadata": {
        "id": "view-in-github",
        "colab_type": "text"
      },
      "source": [
        "<a href=\"https://colab.research.google.com/github/SofiMich/CE/blob/main/T3/T3_CE_Michaelian_1_AgenteViajero.ipynb\" target=\"_parent\"><img src=\"https://colab.research.google.com/assets/colab-badge.svg\" alt=\"Open In Colab\"/></a>"
      ]
    },
    {
      "cell_type": "markdown",
      "source": [
        "#1. Agente viajero\n",
        "El problema del agente viajero consiste en encontrar la ruta más corta que recorra todas las ciudades "
      ],
      "metadata": {
        "id": "CVa0cvPSbgSX"
      }
    },
    {
      "cell_type": "code",
      "source": [
        "import numpy as np\n",
        "import pandas as pd\n",
        "import math\n",
        "import random"
      ],
      "metadata": {
        "id": "vrFc8RgVfYoT"
      },
      "execution_count": null,
      "outputs": []
    },
    {
      "cell_type": "code",
      "execution_count": null,
      "metadata": {
        "colab": {
          "base_uri": "https://localhost:8080/"
        },
        "id": "5NKtX3e4bH1r",
        "outputId": "9b886b21-8dd5-4054-f444-8b55d6bd595b"
      },
      "outputs": [
        {
          "output_type": "stream",
          "name": "stdout",
          "text": [
            "0 0 0 0 0 0 0 0 0 0 0 0 0 0 0 0 0\r\n",
            "633 0 \r\n",
            "257 390 0 \r\n",
            "91  661 228 0 \r\n",
            "412 227 169 383 0 \r\n",
            "150 488 112 120 267 0 \r\n",
            "80  572 196 77  351 63  0 \r\n",
            "134 530 154 105 309 34  29  0\r\n",
            "259 555 372 175 338 264 232 249 0 \r\n",
            "505 289 262 476 196 360 444 402 495 0 \r\n",
            "353 282 110 324 61  208 292 250 352 154 0 \r\n",
            "324 638 437 240 421 329 297 314 95  578 435 0 \r\n",
            "70  567 191 27  346 83  47  68  189 439 287 254 0 \r\n",
            "211 466 74  182 243 105 150 108 326 336 184 391 145 0 \r\n",
            "268 420 53  239 199 123 207 165 383 240 140 448 202 57  0\r\n",
            "246 745 472 237 528 364 332 349 202 685 542 157 289 426 483 0 \r\n",
            "121 518 142 84  297 35  29  36  236 390 238 301 55  96  153 336 0 \r\n",
            "\r\n",
            "\n"
          ]
        }
      ],
      "source": [
        "import base64\n",
        "import requests\n",
        "\n",
        "archivo = \"https://raw.githubusercontent.com/SofiMich/CE/main/T3/1_AgenteViajero/TSP%20datos.txt\"\n",
        "req = requests.get(archivo)\n",
        "req = req.text\n",
        "print(req)"
      ]
    },
    {
      "cell_type": "code",
      "source": [
        "def Reverse_Content(file):\n",
        "      ofile=open(file,\"r\")\n",
        "      k=ofile.readlines()\n",
        "      t=reversed(k)\n",
        "      for i in t:\n",
        "           print(i.rstrip())"
      ],
      "metadata": {
        "id": "2_B6NSsoi3CP"
      },
      "execution_count": null,
      "outputs": []
    },
    {
      "cell_type": "code",
      "source": [
        "distancias = pd.read_table('https://raw.githubusercontent.com/SofiMich/CE/main/T3/1_AgenteViajero/TSP%20datos.txt', dtype=float, header=None, sep='\\s+').fillna(0).values"
      ],
      "metadata": {
        "id": "jkpZNLYrfNfB"
      },
      "execution_count": null,
      "outputs": []
    },
    {
      "cell_type": "code",
      "source": [
        "def rellenar(matrizTriangular):\n",
        "  for i in range(matrizTriangular.shape[0]):\n",
        "    for j in range(i):\n",
        "      matrizTriangular[j,i] = matrizTriangular[i,j]\n",
        "  return matrizTriangular"
      ],
      "metadata": {
        "id": "mu3VOsKeg5JQ"
      },
      "execution_count": null,
      "outputs": []
    },
    {
      "cell_type": "code",
      "source": [
        "len(distancias)"
      ],
      "metadata": {
        "colab": {
          "base_uri": "https://localhost:8080/"
        },
        "id": "lLHIfP76oRwp",
        "outputId": "f0f62ad5-adf4-4f75-84e6-ebf15350c66e"
      },
      "execution_count": null,
      "outputs": [
        {
          "output_type": "execute_result",
          "data": {
            "text/plain": [
              "17"
            ]
          },
          "metadata": {},
          "execution_count": 6
        }
      ]
    },
    {
      "cell_type": "code",
      "source": [
        "distancias = rellenar(distancias) \n",
        "for i in range(len(distancias)):\n",
        "  print ('\\t'.join(map(str, (distancias[i]).astype(int))))"
      ],
      "metadata": {
        "colab": {
          "base_uri": "https://localhost:8080/"
        },
        "id": "GieR1u3TljV-",
        "outputId": "99dd0a92-8036-4f0c-834c-c1ddf6e13c2e"
      },
      "execution_count": null,
      "outputs": [
        {
          "output_type": "stream",
          "name": "stdout",
          "text": [
            "0\t633\t257\t91\t412\t150\t80\t134\t259\t505\t353\t324\t70\t211\t268\t246\t121\n",
            "633\t0\t390\t661\t227\t488\t572\t530\t555\t289\t282\t638\t567\t466\t420\t745\t518\n",
            "257\t390\t0\t228\t169\t112\t196\t154\t372\t262\t110\t437\t191\t74\t53\t472\t142\n",
            "91\t661\t228\t0\t383\t120\t77\t105\t175\t476\t324\t240\t27\t182\t239\t237\t84\n",
            "412\t227\t169\t383\t0\t267\t351\t309\t338\t196\t61\t421\t346\t243\t199\t528\t297\n",
            "150\t488\t112\t120\t267\t0\t63\t34\t264\t360\t208\t329\t83\t105\t123\t364\t35\n",
            "80\t572\t196\t77\t351\t63\t0\t29\t232\t444\t292\t297\t47\t150\t207\t332\t29\n",
            "134\t530\t154\t105\t309\t34\t29\t0\t249\t402\t250\t314\t68\t108\t165\t349\t36\n",
            "259\t555\t372\t175\t338\t264\t232\t249\t0\t495\t352\t95\t189\t326\t383\t202\t236\n",
            "505\t289\t262\t476\t196\t360\t444\t402\t495\t0\t154\t578\t439\t336\t240\t685\t390\n",
            "353\t282\t110\t324\t61\t208\t292\t250\t352\t154\t0\t435\t287\t184\t140\t542\t238\n",
            "324\t638\t437\t240\t421\t329\t297\t314\t95\t578\t435\t0\t254\t391\t448\t157\t301\n",
            "70\t567\t191\t27\t346\t83\t47\t68\t189\t439\t287\t254\t0\t145\t202\t289\t55\n",
            "211\t466\t74\t182\t243\t105\t150\t108\t326\t336\t184\t391\t145\t0\t57\t426\t96\n",
            "268\t420\t53\t239\t199\t123\t207\t165\t383\t240\t140\t448\t202\t57\t0\t483\t153\n",
            "246\t745\t472\t237\t528\t364\t332\t349\t202\t685\t542\t157\t289\t426\t483\t0\t336\n",
            "121\t518\t142\t84\t297\t35\t29\t36\t236\t390\t238\t301\t55\t96\t153\t336\t0\n"
          ]
        }
      ]
    },
    {
      "cell_type": "markdown",
      "source": [
        "## 1.1 Codificació binaria\n",
        "Para la codificación binaria de este problema necesitamos representar 17 ciudades, una de esas ciudaes será la ciudad de partida y de regreso. Para representar 17 valores diferentes, necesitamos 5 bits, así tendremos 32 valores diferentes, que podemos decodificar y lueo usar la función *módulo* para que esos 32 valores se traduzcan en solo 17.\n"
      ],
      "metadata": {
        "id": "W9nb2_2kZUtx"
      }
    },
    {
      "cell_type": "code",
      "source": [
        "def pobBin(nInd = 60, n = 17, d = 5):\n",
        "  pob = np.random.randint(0,2,(nInd,d*n)) #población inicial  \n",
        "  return pob, n, d"
      ],
      "metadata": {
        "id": "Ysv5xSxmiF6_"
      },
      "execution_count": null,
      "outputs": []
    },
    {
      "cell_type": "code",
      "source": [
        "pobB, n, d = pobBin(60)\n",
        "pobB"
      ],
      "metadata": {
        "colab": {
          "base_uri": "https://localhost:8080/"
        },
        "id": "lwk-eK6j48QL",
        "outputId": "3880158d-21ee-4325-8594-e01ec6238f94"
      },
      "execution_count": null,
      "outputs": [
        {
          "output_type": "execute_result",
          "data": {
            "text/plain": [
              "array([[0, 0, 1, ..., 0, 0, 0],\n",
              "       [1, 0, 0, ..., 1, 1, 1],\n",
              "       [1, 1, 1, ..., 1, 0, 0],\n",
              "       ...,\n",
              "       [1, 1, 1, ..., 1, 0, 0],\n",
              "       [0, 1, 1, ..., 0, 1, 1],\n",
              "       [1, 0, 0, ..., 0, 0, 0]])"
            ]
          },
          "metadata": {},
          "execution_count": 9
        }
      ]
    },
    {
      "cell_type": "code",
      "source": [
        "def codifBin(individuo, n = 17, d=5):\n",
        "  x = []\n",
        "  for i in range(n):\n",
        "    x.append(individuo[i*d:(i+1)*d].dot(2**np.arange(individuo[i*d:(i+1)*d].size)[::-1])%n)\n",
        "  return np.array(x)"
      ],
      "metadata": {
        "id": "nTJsnU-ABpDV"
      },
      "execution_count": null,
      "outputs": []
    },
    {
      "cell_type": "code",
      "source": [
        "pobB, n, d = pobBin(60)\n",
        "x = codifBin(pobB[0])\n",
        "print(x)"
      ],
      "metadata": {
        "id": "kaCTrzSuC8yP",
        "colab": {
          "base_uri": "https://localhost:8080/"
        },
        "outputId": "d2e915c0-9b05-438e-83a8-b54425e4b177"
      },
      "execution_count": null,
      "outputs": [
        {
          "output_type": "stream",
          "name": "stdout",
          "text": [
            "[ 1  4  0  0  0  2  5 15  0  2 14 14 12 12  7 16  5]\n"
          ]
        }
      ]
    },
    {
      "cell_type": "markdown",
      "source": [
        "Como podemos observar, con esta codificación tenemos lgunas ciudades repetidas, lo cual es indeseable en nuestra solución. Tenemos dos opciones para evitar esto: \n",
        "1. Penalizar a los individuos que tienen ciudades repetidas al momento de hacer la evaluación.\n",
        "2. \"Purgar\" a cada individuo sustituyendo los valores repetidos por aquellos que no se encuentran en el genotipo.\n",
        "La primer estrategia es la más fácil de implemtentar y es la que usaré, ya que la segunda, además de tomar más tiempo de cómputo, requiere de un paso de volver a codificar en binario."
      ],
      "metadata": {
        "id": "PUfsky7mTkZJ"
      }
    },
    {
      "cell_type": "code",
      "source": [
        "# def purgar(individuo):\n",
        "#   # Obtener los valores únicos y las veces que se repiten\n",
        "#     unq,c = np.unique(individuo,return_counts=1)\n",
        "#     print(c-1)\n",
        "\n",
        "#     # Generamos una máscara de coincidencias entre el idividuo y los genes que se repiten\n",
        "#     m = np.isin(individuo,unq[c>1])\n",
        "\n",
        "#     # Obtenemos los valores que hacen falta en el arreglo original\n",
        "#     newvals = np.setdiff1d(np.arange(len(individuo)),individuo[~m])\n",
        "#     np.random.shuffle(newvals)\n",
        "\n",
        "#     # Asignamos los valores que faltan a las entradas que están duplicadas\n",
        "#     individuo[m] = newvals\n",
        "#     return individuo"
      ],
      "metadata": {
        "id": "WtvWjxGuVyaW"
      },
      "execution_count": null,
      "outputs": []
    },
    {
      "cell_type": "markdown",
      "source": [
        "##1.2 Codificación entera\n",
        "Para la codificación entera representaremos cada ciudad como un número entre 0 y 16, y cada individuo entonces será una permutación de esos 17 números. \n",
        "\n",
        "Generamos nuestra población inicial:"
      ],
      "metadata": {
        "id": "5C_Cw_dqqEyS"
      }
    },
    {
      "cell_type": "code",
      "source": [
        "def pobEnt(nInd = 60):\n",
        "  n = 17 #número de ciudades\n",
        "  d = 1 # número de dígitos\n",
        "\n",
        "  pob = np.zeros((nInd,n*d), dtype=int)\n",
        "  for i in range(nInd):\n",
        "    pob[i] = np.random.permutation(n) \n",
        "\n",
        "  return pob, n, d"
      ],
      "metadata": {
        "id": "r8HLElYiqVqM"
      },
      "execution_count": null,
      "outputs": []
    },
    {
      "cell_type": "code",
      "source": [
        "def codifEnt(individuo, n = 17, d=1):\n",
        "  return individuo"
      ],
      "metadata": {
        "id": "1NHUFtAgMZyP"
      },
      "execution_count": null,
      "outputs": []
    },
    {
      "cell_type": "code",
      "source": [
        "pobE, n, d= pobEnt(60)"
      ],
      "metadata": {
        "id": "NETVBUEav98c"
      },
      "execution_count": null,
      "outputs": []
    },
    {
      "cell_type": "code",
      "source": [
        "pobE"
      ],
      "metadata": {
        "colab": {
          "base_uri": "https://localhost:8080/"
        },
        "id": "6dWa4ext2QMm",
        "outputId": "fd7341f7-c487-4760-e6fe-af5d4b26b8c6"
      },
      "execution_count": null,
      "outputs": [
        {
          "output_type": "execute_result",
          "data": {
            "text/plain": [
              "array([[ 9,  7,  3, ...,  5, 11,  0],\n",
              "       [ 6,  7, 16, ...,  0,  3, 13],\n",
              "       [16, 12, 15, ...,  7, 13,  5],\n",
              "       ...,\n",
              "       [ 3,  2,  5, ...,  9,  0, 11],\n",
              "       [12,  9,  4, ..., 10,  8,  1],\n",
              "       [ 0, 14,  7, ..., 13,  2, 16]])"
            ]
          },
          "metadata": {},
          "execution_count": 16
        }
      ]
    },
    {
      "cell_type": "markdown",
      "source": [
        "##1.2 Codificación real\n",
        "Para la codificación real"
      ],
      "metadata": {
        "id": "D5qdfvE06iu8"
      }
    },
    {
      "cell_type": "markdown",
      "source": [
        "### Evaluar la población"
      ],
      "metadata": {
        "id": "Q-E83NhWTV-2"
      }
    },
    {
      "cell_type": "code",
      "source": [
        "def evaluar(pob, codif):\n",
        "  camino = []\n",
        "\n",
        "  for individuo in pob:\n",
        "    individuo = codif(individuo)\n",
        "    distancia = 0\n",
        "\n",
        "    for i in range(individuo.size - 1):\n",
        "      x = int(individuo[i])\n",
        "      y = int(individuo[i+1])\n",
        "      distancia = distancia + distancias[x, y]\n",
        "\n",
        "    x = int(individuo[-1])\n",
        "    y = int(individuo[0])\n",
        "    distancia = distancia + distancias[x,y]\n",
        "\n",
        "    # Penalización por ciudades repetidas\n",
        "    unq,c = np.unique(individuo,return_counts=1)\n",
        "    distancia = distancia + np.sum(c-1)*np.max(distancias)\n",
        "\n",
        "    individuo = np.append(individuo.astype(int), distancia)\n",
        "    camino.append(individuo)\n",
        "\n",
        "  return np.array(camino)"
      ],
      "metadata": {
        "id": "_TGehAf4uWir"
      },
      "execution_count": null,
      "outputs": []
    },
    {
      "cell_type": "code",
      "source": [
        "pobEvaluada = evaluar(pobB,codifBin)\n",
        "pobEvaluada"
      ],
      "metadata": {
        "colab": {
          "base_uri": "https://localhost:8080/"
        },
        "id": "L1gXt4hE-Irx",
        "outputId": "07480549-69e6-45ee-ef05-d5755d58fb02"
      },
      "execution_count": null,
      "outputs": [
        {
          "output_type": "execute_result",
          "data": {
            "text/plain": [
              "array([[1.0000e+00, 4.0000e+00, 0.0000e+00, ..., 1.6000e+01, 5.0000e+00,\n",
              "        7.9720e+03],\n",
              "       [8.0000e+00, 1.0000e+00, 4.0000e+00, ..., 5.0000e+00, 1.2000e+01,\n",
              "        7.3040e+03],\n",
              "       [6.0000e+00, 1.4000e+01, 1.0000e+01, ..., 5.0000e+00, 0.0000e+00,\n",
              "        6.3230e+03],\n",
              "       ...,\n",
              "       [8.0000e+00, 8.0000e+00, 5.0000e+00, ..., 7.0000e+00, 5.0000e+00,\n",
              "        8.6100e+03],\n",
              "       [4.0000e+00, 9.0000e+00, 9.0000e+00, ..., 0.0000e+00, 0.0000e+00,\n",
              "        8.3350e+03],\n",
              "       [7.0000e+00, 1.0000e+01, 9.0000e+00, ..., 1.1000e+01, 9.0000e+00,\n",
              "        1.0451e+04]])"
            ]
          },
          "metadata": {},
          "execution_count": 18
        }
      ]
    },
    {
      "cell_type": "markdown",
      "source": [
        "### Calcular Fitness"
      ],
      "metadata": {
        "id": "r8OQfpdMTfu1"
      }
    },
    {
      "cell_type": "code",
      "source": [
        "def calcularFitness(pob):\n",
        "  total = np.sum(pob, axis = 0)[-1]\n",
        "\n",
        "  for i in pob:\n",
        "    i[-1] = np.abs(1 - i[-1]/total)\n",
        "\n",
        "  return pob"
      ],
      "metadata": {
        "id": "e_zoFdeyADri"
      },
      "execution_count": null,
      "outputs": []
    },
    {
      "cell_type": "code",
      "source": [
        "pobEvaluada = calcularFitness(pobEvaluada)\n",
        "pobEvaluada"
      ],
      "metadata": {
        "colab": {
          "base_uri": "https://localhost:8080/"
        },
        "id": "lCcAW-VoRtrO",
        "outputId": "15071669-c77e-419b-93dc-5265966922eb"
      },
      "execution_count": null,
      "outputs": [
        {
          "output_type": "execute_result",
          "data": {
            "text/plain": [
              "array([[ 1.        ,  4.        ,  0.        , ..., 16.        ,\n",
              "         5.        ,  0.98523291],\n",
              "       [ 8.        ,  1.        ,  4.        , ...,  5.        ,\n",
              "        12.        ,  0.98647029],\n",
              "       [ 6.        , 14.        , 10.        , ...,  5.        ,\n",
              "         0.        ,  0.98828747],\n",
              "       ...,\n",
              "       [ 8.        ,  8.        ,  5.        , ...,  7.        ,\n",
              "         5.        ,  0.9840511 ],\n",
              "       [ 4.        ,  9.        ,  9.        , ...,  0.        ,\n",
              "         0.        ,  0.9845605 ],\n",
              "       [ 7.        , 10.        ,  9.        , ..., 11.        ,\n",
              "         9.        ,  0.98064088]])"
            ]
          },
          "metadata": {},
          "execution_count": 20
        }
      ]
    },
    {
      "cell_type": "markdown",
      "source": [
        "### Calcular probabilidad de selección"
      ],
      "metadata": {
        "id": "dgjcfuyrTju3"
      }
    },
    {
      "cell_type": "code",
      "source": [
        "def calcularPS(x):\n",
        "  total = np.sum(x, axis = 0)[-1]\n",
        "  \n",
        "  for i in x:\n",
        "    if i[-1]/total >= 0:\n",
        "        i[-1] = i[-1]/total\n",
        "    else:\n",
        "        print('Probabilidad negativa!!!')\n",
        "        print(i)\n",
        "        i[-1] = np.nextafter(0,1)\n",
        "  return x"
      ],
      "metadata": {
        "id": "X8Vv04EZHMxq"
      },
      "execution_count": null,
      "outputs": []
    },
    {
      "cell_type": "code",
      "source": [
        "pobEvaluada = calcularPS(pobEvaluada)\n",
        "print(np.sum(pobEvaluada[:,-1], axis = 0) )#para checar que la suma de las probabilidades sí den 1\n",
        "#print(pobEvaluada)\n"
      ],
      "metadata": {
        "colab": {
          "base_uri": "https://localhost:8080/"
        },
        "id": "xYSXQ3smI9v_",
        "outputId": "d9780b9a-aa02-41ef-e32e-5705c0059bd7"
      },
      "execution_count": null,
      "outputs": [
        {
          "output_type": "stream",
          "name": "stdout",
          "text": [
            "1.0\n"
          ]
        }
      ]
    },
    {
      "cell_type": "markdown",
      "source": [
        "### Seleccionar individuos para el pool de cruza"
      ],
      "metadata": {
        "id": "mIJY-DMtTptB"
      }
    },
    {
      "cell_type": "code",
      "source": [
        "def seleccionar(x,pob):\n",
        "  pool = []\n",
        "  for i in range(len(pob)):\n",
        "    r = np.random.choice(range(len(pob)), p=x[:,-1])\n",
        "\n",
        "    pool.append(pob[r])\n",
        "  \n",
        "  pool = np.array(pool)\n",
        "\n",
        "  return pool"
      ],
      "metadata": {
        "id": "1ZKIj-GkTH76"
      },
      "execution_count": null,
      "outputs": []
    },
    {
      "cell_type": "code",
      "source": [
        "pool = seleccionar(pobEvaluada,pobB)\n",
        "pool"
      ],
      "metadata": {
        "colab": {
          "base_uri": "https://localhost:8080/"
        },
        "id": "Umy70HpSTNVN",
        "outputId": "0a7e4cf3-d9f6-4dbe-fdf4-b306d4cbfb9f"
      },
      "execution_count": null,
      "outputs": [
        {
          "output_type": "execute_result",
          "data": {
            "text/plain": [
              "array([[1, 1, 0, ..., 1, 1, 0],\n",
              "       [1, 0, 0, ..., 0, 0, 1],\n",
              "       [1, 0, 1, ..., 1, 0, 1],\n",
              "       ...,\n",
              "       [0, 0, 0, ..., 1, 0, 1],\n",
              "       [0, 1, 0, ..., 0, 1, 1],\n",
              "       [1, 1, 0, ..., 0, 0, 1]])"
            ]
          },
          "metadata": {},
          "execution_count": 24
        }
      ]
    },
    {
      "cell_type": "markdown",
      "source": [
        "### Cruza"
      ],
      "metadata": {
        "id": "S8uar40VADa2"
      }
    },
    {
      "cell_type": "markdown",
      "source": [
        "Cruza en la codifcación entera:"
      ],
      "metadata": {
        "id": "quSRDKId5uJ-"
      }
    },
    {
      "cell_type": "code",
      "source": [
        "def cruzaEnt(pool, pc):\n",
        "  nuevaGen = np.zeros((len(pool),len(pool[1])))\n",
        "\n",
        "  l = len(pool[1])\n",
        "\n",
        "  for i in range(len(pool)//2):\n",
        "    hijo1 = -np.ones(l)\n",
        "    hijo2 = -np.ones(l)\n",
        "    \n",
        "    padre1 = pool[2*i]\n",
        "    padre2 = pool[2*i+1]\n",
        "    r = random.uniform(0,1)\n",
        "\n",
        "    if r <= pc:\n",
        "\n",
        "      n1 = random.randint(0,l)\n",
        "      n2 = random.randint(0,l)\n",
        "      cruce1 = min(n1,n2)\n",
        "      cruce2 = max(n1,n2)\n",
        "      \n",
        "     \n",
        "      hijo1[cruce1:cruce2] = padre1[cruce1:cruce2]\n",
        "\n",
        "      res2 = [item for item in padre2 if item not in hijo1]\n",
        "     \n",
        "      hijo1[0:cruce1] = res2[0:cruce1]\n",
        "      \n",
        "      hijo1[cruce2:] = res2[cruce1:]\n",
        "      \n",
        "      hijo2[cruce1:cruce2] = padre2[cruce1:cruce2]\n",
        "      res1 = [item for item in padre1 if item not in hijo2]\n",
        "\n",
        "      hijo2[0:cruce1] = res1[0:cruce1]\n",
        "      hijo2[cruce2:] = res1[cruce1:]\n",
        "    \n",
        "    else:\n",
        "      hijo1 = padre1\n",
        "      hijo2 = padre2\n",
        "\n",
        "    nuevaGen[2*i] = hijo1\n",
        "    nuevaGen[2*i+1] = hijo2\n",
        "\n",
        "  return np.array(nuevaGen)\n",
        "    "
      ],
      "metadata": {
        "id": "GY9YyotVZfua"
      },
      "execution_count": null,
      "outputs": []
    },
    {
      "cell_type": "markdown",
      "source": [
        "Cruza en la codificación Binaria:"
      ],
      "metadata": {
        "id": "R6-tf4gt5zIO"
      }
    },
    {
      "cell_type": "code",
      "source": [
        "def cruzaBin(pool,pc=1):\n",
        "  nuevaGen = np.zeros((len(pool),len(pool[1])))\n",
        "\n",
        "  l = len(pool[1])\n",
        "\n",
        "  hijo1 = np.zeros(l)\n",
        "  hijo2 = np.zeros(l)\n",
        "\n",
        "  for i in range(len(pool)//2):\n",
        "    padre1 = pool[2*i]\n",
        "    padre2 = pool[2*i+1]\n",
        "    r = random.uniform(0,1)\n",
        "\n",
        "    if r <= pc:\n",
        "\n",
        "      cruce = random.randint(0,l)\n",
        "      #print(cruce)\n",
        "\n",
        "      hijo1[0:cruce] = padre1[0:cruce]\n",
        "      hijo1[cruce:l] = padre2[cruce:l]\n",
        "\n",
        "      hijo2[0:cruce] = padre2[0:cruce]\n",
        "      hijo2[cruce:l] = padre1[cruce:l]\n",
        "    \n",
        "    else:\n",
        "      hijo1 = padre1\n",
        "      hijo2 = padre2\n",
        "\n",
        "    nuevaGen[2*i] = hijo1\n",
        "    nuevaGen[2*i+1] = hijo2\n",
        "\n",
        "  return np.array(nuevaGen)"
      ],
      "metadata": {
        "id": "lmgVM3pD33RU"
      },
      "execution_count": null,
      "outputs": []
    },
    {
      "cell_type": "code",
      "source": [
        "nuevaGen = cruzaBin(pool,1)\n",
        "nuevaGen"
      ],
      "metadata": {
        "colab": {
          "base_uri": "https://localhost:8080/"
        },
        "id": "bqtGvXYSnJTQ",
        "outputId": "ab855f12-4aa1-46ac-dc09-eedfeeb408f8"
      },
      "execution_count": null,
      "outputs": [
        {
          "output_type": "execute_result",
          "data": {
            "text/plain": [
              "array([[1., 1., 0., ..., 0., 0., 1.],\n",
              "       [1., 0., 0., ..., 1., 1., 0.],\n",
              "       [1., 0., 1., ..., 0., 1., 0.],\n",
              "       ...,\n",
              "       [0., 0., 0., ..., 1., 0., 0.],\n",
              "       [0., 1., 0., ..., 0., 0., 1.],\n",
              "       [1., 1., 0., ..., 0., 1., 1.]])"
            ]
          },
          "metadata": {},
          "execution_count": 27
        }
      ]
    },
    {
      "cell_type": "markdown",
      "source": [
        "### Mutación"
      ],
      "metadata": {
        "id": "9tHiOGhujLL-"
      }
    },
    {
      "cell_type": "markdown",
      "source": [
        "Mutación en la codificación entera usando dos puntos:"
      ],
      "metadata": {
        "id": "TjKTViYz53xo"
      }
    },
    {
      "cell_type": "code",
      "source": [
        "def mutarEnt(nuevaGen,pm = 1):\n",
        "  prob = random.uniform(np.nextafter(0,1),1.0)\n",
        "  l = len(nuevaGen[0])\n",
        "\n",
        "  for i in range(len(nuevaGen)):\n",
        "    if prob <= pm:\n",
        "      n1 = random.randint(0,l-1)\n",
        "      n2 = random.randint(0,l-1)\n",
        "\n",
        "      #print(i, n1)\n",
        "      #print(nuevaGen.shape)\n",
        "\n",
        "      temp = nuevaGen[i,n1]\n",
        "      nuevaGen[i,n1] = nuevaGen[i,n2]\n",
        "      nuevaGen[i,n2] = temp\n",
        "\n",
        "  return np.array(nuevaGen)"
      ],
      "metadata": {
        "id": "ny1aPXv-jTAE"
      },
      "execution_count": null,
      "outputs": []
    },
    {
      "cell_type": "markdown",
      "source": [
        "Muta en la codificación binaria:"
      ],
      "metadata": {
        "id": "xiW-0RRe6AIp"
      }
    },
    {
      "cell_type": "code",
      "source": [
        "def mutarBin(nuevaGen,pm):\n",
        "  #pm = 1/(2*nuevaGen.shape[1])\n",
        "  for i in range(len(nuevaGen)):\n",
        "    for j in range(len(nuevaGen[i])):\n",
        "      num = random.uniform(np.nextafter(0,1),1.0)\n",
        "      if num <= pm:\n",
        "        if nuevaGen[i,j] == 0:\n",
        "          nuevaGen[i,j] = 1\n",
        "        else:\n",
        "          nuevaGen[i,j] = 0\n",
        "\n",
        "  return np.array(nuevaGen)"
      ],
      "metadata": {
        "id": "gpAz_UTv7SPA"
      },
      "execution_count": null,
      "outputs": []
    },
    {
      "cell_type": "code",
      "source": [
        "mutarBin(nuevaGen,1)"
      ],
      "metadata": {
        "colab": {
          "base_uri": "https://localhost:8080/"
        },
        "id": "HRpB5VC5oL5g",
        "outputId": "26d39e74-fd71-4ca6-d6e5-2c3c87340090"
      },
      "execution_count": null,
      "outputs": [
        {
          "output_type": "execute_result",
          "data": {
            "text/plain": [
              "array([[0., 0., 1., ..., 1., 1., 0.],\n",
              "       [0., 1., 1., ..., 0., 0., 1.],\n",
              "       [0., 1., 0., ..., 1., 0., 1.],\n",
              "       ...,\n",
              "       [1., 1., 1., ..., 0., 1., 1.],\n",
              "       [1., 0., 1., ..., 1., 1., 0.],\n",
              "       [0., 0., 1., ..., 1., 0., 0.]])"
            ]
          },
          "metadata": {},
          "execution_count": 30
        }
      ]
    },
    {
      "cell_type": "code",
      "source": [
        "def minimizar(poblacion, nInd, ngeneraciones, pc, pm, codif, cruzar, mutar, nombre):\n",
        "  \n",
        "  pob, n, d = poblacion(nInd)\n",
        "  \n",
        "  mejor = []  \n",
        "  promedio = np.zeros(ngeneraciones)\n",
        "\n",
        "  for i in range(ngeneraciones):\n",
        "\n",
        "    x = evaluar(pob,codif)\n",
        "\n",
        "    mejor.append(pob[np.where(x[:,-1] == np.min(x[:,-1]))][0]) #guardamos al insividuo con el mejor desempeño\n",
        "    #print(mejor[i])\n",
        "  \n",
        "    promedio[i] = np.sum(x, axis = 0)[-1] / len(pob) #calculamos el promedio del desempeño de la población\n",
        "\n",
        "    x = calcularPS(calcularFitness(x))\n",
        " \n",
        "    pool = seleccionar(x,pob)\n",
        "    nuevaGen =  cruzar(pool,pc)\n",
        "    mutar(nuevaGen,pm)\n",
        "\n",
        "    #Elitismo:\n",
        "    k = np.random.randint(0,len(pob))\n",
        "    nuevaGen[k] = mejor[i]\n",
        "    #print(mejor[i])\n",
        "\n",
        "    pob = nuevaGen\n",
        "\n",
        "  mejor = np.array(mejor)\n",
        "  print('El camino mínimo es:' )\n",
        "  print(evaluar(pob,codif)[-1,:-1].astype('int'))\n",
        "  print('De longitud:')\n",
        "  print(evaluar(mejor,codif)[-1:,-1])\n",
        "\n",
        "# Graficar\n",
        "  import matplotlib.pyplot as plt\n",
        "\n",
        "  plt.axes(xlabel='Generación', ylabel= nombre + str(n) + 'D (x)')\n",
        "  plt.title('Desempeño ' + str(nInd) + ' individuos en ' +str(ngeneraciones) + ' generaciones\\n Con elitismo de 1 individuo')\n",
        "\n",
        "  plt.plot(promedio)\n",
        "  plt.plot(evaluar(mejor,codif)[:,-1])\n",
        "  #print(evaluar(mejor,codif))\n",
        "\n",
        "  plt.legend(labels=[\"Promedio\",\"Mejor individuo\"])\n",
        "  plt.show\n"
      ],
      "metadata": {
        "id": "3DUTCHVfoYWS"
      },
      "execution_count": null,
      "outputs": []
    },
    {
      "cell_type": "code",
      "source": [
        "nGen = 2000\n",
        "pc = 0.5\n",
        "pm = 0.0001\n",
        "nInd = 60"
      ],
      "metadata": {
        "id": "Rrv3V_bZ79dE"
      },
      "execution_count": null,
      "outputs": []
    },
    {
      "cell_type": "code",
      "source": [
        "minimizar(pobBin, nInd, nGen, pc, pm, codifBin, cruzaBin, mutarBin, 'Codificación binaria')"
      ],
      "metadata": {
        "colab": {
          "base_uri": "https://localhost:8080/",
          "height": 379
        },
        "id": "eUmWvGxhZwuF",
        "outputId": "b9e30339-4ed8-41ce-c8a0-a89bcbbee9c4"
      },
      "execution_count": null,
      "outputs": [
        {
          "output_type": "stream",
          "name": "stdout",
          "text": [
            "El camino mínimo es:\n",
            "[14 16  2 13 10  4  4  8 15 11  7 12  6  0  3  5 13]\n",
            "De longitud:\n",
            "[3096.]\n"
          ]
        },
        {
          "output_type": "display_data",
          "data": {
            "text/plain": [
              "<Figure size 432x288 with 1 Axes>"
            ],
            "image/png": "[encoded data removed]"
          },
          "metadata": {
            "needs_background": "light"
          }
        }
      ]
    },
    {
      "cell_type": "code",
      "source": [
        "nGen = 2000\n",
        "pc = 0.5\n",
        "pm = 0.001\n",
        "nInd = 100"
      ],
      "metadata": {
        "id": "nJ05NIAdiGjI"
      },
      "execution_count": null,
      "outputs": []
    },
    {
      "cell_type": "code",
      "source": [
        "minimizar(pobBin, nInd, nGen, pc, pm, codifBin, cruzaBin, mutarBin, 'Codificación binaria')"
      ],
      "metadata": {
        "colab": {
          "base_uri": "https://localhost:8080/",
          "height": 379
        },
        "id": "PavjLf6zzwvW",
        "outputId": "64f283cc-8a08-4794-f2e6-54af8413acff"
      },
      "execution_count": null,
      "outputs": [
        {
          "output_type": "stream",
          "name": "stdout",
          "text": [
            "El camino mínimo es:\n",
            "[ 0  6  7 13 14  5 15  8 12  2  5  4  2  9  9 12  3]\n",
            "De longitud:\n",
            "[3154.]\n"
          ]
        },
        {
          "output_type": "display_data",
          "data": {
            "text/plain": [
              "<Figure size 432x288 with 1 Axes>"
            ],
            "image/png": "[encoded data removed]"
          },
          "metadata": {
            "needs_background": "light"
          }
        }
      ]
    },
    {
      "cell_type": "code",
      "source": [
        "nGen = 2000\n",
        "pc = 0.5\n",
        "pm = 0.0001\n",
        "nInd = 60"
      ],
      "metadata": {
        "id": "iUOi0vOsiOko"
      },
      "execution_count": null,
      "outputs": []
    },
    {
      "cell_type": "code",
      "source": [
        "minimizar(pobEnt, 60, nGen, pc, pm, codifEnt, cruzaEnt, mutarEnt, 'Codificación entera')"
      ],
      "metadata": {
        "colab": {
          "base_uri": "https://localhost:8080/",
          "height": 379
        },
        "id": "ITfanZHp4FC1",
        "outputId": "6606c278-65c7-4d77-a0ea-5fdb0c5f386c"
      },
      "execution_count": null,
      "outputs": [
        {
          "output_type": "stream",
          "name": "stdout",
          "text": [
            "El camino mínimo es:\n",
            "[ 8 11 15  0  2 10  4  1  9 14 13  7  6 16  5 12  3]\n",
            "De longitud:\n",
            "[2225.]\n"
          ]
        },
        {
          "output_type": "display_data",
          "data": {
            "text/plain": [
              "<Figure size 432x288 with 1 Axes>"
            ],
            "image/png": "[encoded data removed]"
          },
          "metadata": {
            "needs_background": "light"
          }
        }
      ]
    },
    {
      "cell_type": "code",
      "source": [],
      "metadata": {
        "id": "Ip9RXZ6t1UNj"
      },
      "execution_count": null,
      "outputs": []
    },
    {
      "cell_type": "code",
      "source": [
        "nGen = 2000\n",
        "pc = 0.5\n",
        "pm = 1.0/60.0\n",
        "nInd = 500"
      ],
      "metadata": {
        "id": "8htnZz8z1UoB"
      },
      "execution_count": null,
      "outputs": []
    },
    {
      "cell_type": "code",
      "source": [
        "minimizar(pobBin, nInd, nGen, pc, pm, codifBin, cruzaBin, mutarBin, 'Codificación binaria')"
      ],
      "metadata": {
        "colab": {
          "base_uri": "https://localhost:8080/"
        },
        "outputId": "62c6e39a-3ac3-43c8-98cc-6cad93ceaf59",
        "id": "6aDBBaPK1UoB"
      },
      "execution_count": null,
      "outputs": [
        {
          "output_type": "stream",
          "name": "stdout",
          "text": [
            "El camino mínimo es:\n",
            "[ 0 16  8  2  9  7  5  6  7 15 15  9  8  4  7  1  8]\n",
            "De longitud:\n",
            "[3327.]\n"
          ]
        },
        {
          "output_type": "display_data",
          "data": {
            "text/plain": [
              "<Figure size 432x288 with 1 Axes>"
            ],
            "image/png": "[encoded data removed]"
          },
          "metadata": {
            "needs_background": "light"
          }
        }
      ]
    },
    {
      "cell_type": "code",
      "source": [
        "minimizar(pobBin, nInd, nGen, pc, pm, codifBin, cruzaBin, mutarBin, 'Codificación binaria')"
      ],
      "metadata": {
        "colab": {
          "base_uri": "https://localhost:8080/"
        },
        "outputId": "12d69cf7-26f3-4dcd-a134-1e6597b23dca",
        "id": "U4LuBB9E1UoB"
      },
      "execution_count": null,
      "outputs": [
        {
          "output_type": "stream",
          "name": "stdout",
          "text": [
            "El camino mínimo es:\n",
            "[15  6  6 11  9  4 11  8  3  8  1  6  1  3  2 10 13]\n",
            "De longitud:\n",
            "[3206.]\n"
          ]
        },
        {
          "output_type": "display_data",
          "data": {
            "text/plain": [
              "<Figure size 432x288 with 1 Axes>"
            ],
            "image/png": "[encoded data removed]"
          },
          "metadata": {
            "needs_background": "light"
          }
        }
      ]
    }
  ]
}