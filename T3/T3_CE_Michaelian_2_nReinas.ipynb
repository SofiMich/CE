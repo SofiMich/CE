{
  "nbformat": 4,
  "nbformat_minor": 0,
  "metadata": {
    "colab": {
      "provenance": [],
      "collapsed_sections": [],
      "authorship_tag": "ABX9TyMfXZjk4q2L5MGRkJajTCh7",
      "include_colab_link": true
    },
    "kernelspec": {
      "name": "python3",
      "display_name": "Python 3"
    },
    "language_info": {
      "name": "python"
    }
  },
  "cells": [
    {
      "cell_type": "markdown",
      "metadata": {
        "id": "view-in-github",
        "colab_type": "text"
      },
      "source": [
        "<a href=\"https://colab.research.google.com/github/SofiMich/CE/blob/main/T3/T3_CE_Michaelian_2_nReinas.ipynb\" target=\"_parent\"><img src=\"https://colab.research.google.com/assets/colab-badge.svg\" alt=\"Open In Colab\"/></a>"
      ]
    },
    {
      "cell_type": "markdown",
      "source": [
        "#2. nReinas\n",
        "El problema de las nReinas consiste en encontrar la solución al problema de acomodar n reinas en un tablero de ajedrez de manera que no se ataquen entre ellas. "
      ],
      "metadata": {
        "id": "CVa0cvPSbgSX"
      }
    },
    {
      "cell_type": "code",
      "source": [
        "import numpy as np\n",
        "import pandas as pd\n",
        "import math\n",
        "import random"
      ],
      "metadata": {
        "id": "vrFc8RgVfYoT"
      },
      "execution_count": null,
      "outputs": []
    },
    {
      "cell_type": "markdown",
      "source": [
        "##1.1 Codificación binaria\n",
        "Para la codificación binaria tenemos varias opciones, la primera es representar el tablero como un arreglo de 1s y 0s, en el que la posición del 1 representa la posición de la reina en cada reglón. Hay una regunda opción de represesntación que es mucho más efectiva: representar el tablero como una cadena de números binarios en la que el número en la n-ésima entrada del vector representa la columna en la que se encuentra la n-ésima reina. Usaremos esta segunda representación:\n",
        "\n",
        "*   Para n = 8 necesitamos 3 dígitos para la posición de cada reina, por lo que tendremos un vector de 24 entradas binarias.\n",
        "*   Para n = 10 necesitamos 4 dígitos, un vector de 40 entradas.\n",
        "\n"
      ],
      "metadata": {
        "id": "qTJwJjJe-ROj"
      }
    },
    {
      "cell_type": "code",
      "source": [
        "def pobBin(nInd = 60, n = 8, d = 3):\n",
        "  pob = np.random.randint(0,2,(nInd,d*n)) #población inicial  \n",
        "  return pob"
      ],
      "metadata": {
        "id": "Ysv5xSxmiF6_"
      },
      "execution_count": null,
      "outputs": []
    },
    {
      "cell_type": "code",
      "source": [
        "pobB = pobBin(60)\n",
        "pobB"
      ],
      "metadata": {
        "colab": {
          "base_uri": "https://localhost:8080/"
        },
        "id": "lwk-eK6j48QL",
        "outputId": "5cf7dd2a-7212-41e4-9af8-9e518b995a9d"
      },
      "execution_count": null,
      "outputs": [
        {
          "output_type": "execute_result",
          "data": {
            "text/plain": [
              "array([[0, 0, 0, ..., 1, 1, 0],\n",
              "       [0, 0, 1, ..., 0, 0, 1],\n",
              "       [1, 1, 1, ..., 0, 0, 1],\n",
              "       ...,\n",
              "       [0, 0, 0, ..., 0, 1, 0],\n",
              "       [1, 1, 0, ..., 1, 0, 1],\n",
              "       [1, 1, 0, ..., 1, 1, 0]])"
            ]
          },
          "metadata": {},
          "execution_count": 3
        }
      ]
    },
    {
      "cell_type": "code",
      "source": [
        "def codifBin(individuo, n = 8, d=3):\n",
        "  x = []\n",
        "  for i in range(n):\n",
        "    x.append(individuo[i*d:(i+1)*d].dot(2**np.arange(individuo[i*d:(i+1)*d].size)[::-1])%n)\n",
        "  return np.array(x)"
      ],
      "metadata": {
        "id": "nTJsnU-ABpDV"
      },
      "execution_count": null,
      "outputs": []
    },
    {
      "cell_type": "code",
      "source": [
        "pobB = pobBin(60)\n",
        "x = codifBin(pobB[0])\n",
        "print(x)"
      ],
      "metadata": {
        "id": "kaCTrzSuC8yP",
        "colab": {
          "base_uri": "https://localhost:8080/"
        },
        "outputId": "51f9e027-81f7-441d-e4fe-d826a40fca9d"
      },
      "execution_count": null,
      "outputs": [
        {
          "output_type": "stream",
          "name": "stdout",
          "text": [
            "[7 4 6 4 2 2 2 1]\n"
          ]
        }
      ]
    },
    {
      "cell_type": "markdown",
      "source": [
        "Como podemos observar, con esta codificación tenemos lgunas columnas repetidas, lo cual es indeseable en nuestra solución. Tenemos dos opciones para evitar esto: \n",
        "1. Penalizar a los individuos que tienen ciudades repetidas al momento de hacer la evaluación.\n",
        "2. \"Purgar\" a cada individuo sustituyendo los valores repetidos por aquellos que no se encuentran en el genotipo.\n",
        "La primer estrategia es la más fácil de implemtentar y es la que usaré, ya que la segunda, además de tomar más tiempo de cómputo, requiere de un paso de volver a codificar en binario."
      ],
      "metadata": {
        "id": "PUfsky7mTkZJ"
      }
    },
    {
      "cell_type": "code",
      "source": [
        "# def purgar(individuo):\n",
        "#   # Obtener los valores únicos y las veces que se repiten\n",
        "#     unq,c = np.unique(individuo,return_counts=1)\n",
        "#     print(c-1)\n",
        "\n",
        "#     # Generamos una máscara de coincidencias entre el idividuo y los genes que se repiten\n",
        "#     m = np.isin(individuo,unq[c>1])\n",
        "\n",
        "#     # Obtenemos los valores que hacen falta en el arreglo original\n",
        "#     newvals = np.setdiff1d(np.arange(len(individuo)),individuo[~m])\n",
        "#     np.random.shuffle(newvals)\n",
        "\n",
        "#     # Asignamos los valores que faltan a las entradas que están duplicadas\n",
        "#     individuo[m] = newvals\n",
        "#     return individuo"
      ],
      "metadata": {
        "id": "WtvWjxGuVyaW"
      },
      "execution_count": null,
      "outputs": []
    },
    {
      "cell_type": "markdown",
      "source": [
        "##1.2 Codificación entera\n",
        "Para la codificación entera representaremos cada ciudad como un número entre 0 y 16, y cada individuo entonces será una permutación de esos 17 números. \n",
        "\n",
        "Generamos nuestra población inicial:"
      ],
      "metadata": {
        "id": "5C_Cw_dqqEyS"
      }
    },
    {
      "cell_type": "code",
      "source": [
        "def pobEnt(nInd = 60, n = 8, d = 1):\n",
        "\n",
        "  pob = np.zeros((nInd,n), dtype=int)\n",
        "  for i in range(nInd):\n",
        "    pob[i] = np.random.permutation(n) \n",
        "\n",
        "  return pob"
      ],
      "metadata": {
        "id": "r8HLElYiqVqM"
      },
      "execution_count": null,
      "outputs": []
    },
    {
      "cell_type": "code",
      "source": [
        "def codifEnt(individuo, n = 8, d=1):\n",
        "  return individuo"
      ],
      "metadata": {
        "id": "1NHUFtAgMZyP"
      },
      "execution_count": null,
      "outputs": []
    },
    {
      "cell_type": "code",
      "source": [
        "pobE = pobEnt(60)"
      ],
      "metadata": {
        "id": "NETVBUEav98c"
      },
      "execution_count": null,
      "outputs": []
    },
    {
      "cell_type": "code",
      "source": [
        "pobE"
      ],
      "metadata": {
        "colab": {
          "base_uri": "https://localhost:8080/"
        },
        "id": "6dWa4ext2QMm",
        "outputId": "5a621c38-42bd-44a5-a8be-d7dd597b185f"
      },
      "execution_count": null,
      "outputs": [
        {
          "output_type": "execute_result",
          "data": {
            "text/plain": [
              "array([[5, 2, 1, 4, 7, 0, 3, 6],\n",
              "       [4, 2, 0, 6, 5, 1, 7, 3],\n",
              "       [3, 4, 1, 6, 2, 0, 7, 5],\n",
              "       [6, 2, 7, 1, 5, 0, 4, 3],\n",
              "       [5, 0, 2, 6, 1, 3, 7, 4],\n",
              "       [0, 3, 2, 5, 1, 7, 4, 6],\n",
              "       [4, 1, 2, 3, 7, 6, 5, 0],\n",
              "       [7, 2, 6, 4, 0, 1, 5, 3],\n",
              "       [4, 7, 5, 3, 0, 1, 6, 2],\n",
              "       [5, 7, 1, 0, 4, 6, 3, 2],\n",
              "       [0, 5, 4, 7, 3, 1, 6, 2],\n",
              "       [0, 3, 4, 5, 2, 7, 6, 1],\n",
              "       [1, 3, 0, 4, 2, 5, 7, 6],\n",
              "       [1, 5, 4, 7, 6, 0, 2, 3],\n",
              "       [6, 1, 4, 0, 3, 7, 5, 2],\n",
              "       [4, 3, 6, 1, 5, 0, 2, 7],\n",
              "       [5, 0, 6, 1, 7, 3, 4, 2],\n",
              "       [3, 7, 2, 1, 4, 5, 0, 6],\n",
              "       [3, 4, 0, 7, 2, 5, 1, 6],\n",
              "       [1, 7, 4, 2, 0, 3, 6, 5],\n",
              "       [2, 7, 6, 5, 3, 1, 4, 0],\n",
              "       [0, 1, 4, 5, 6, 2, 3, 7],\n",
              "       [2, 4, 6, 7, 5, 1, 3, 0],\n",
              "       [3, 7, 1, 2, 4, 0, 5, 6],\n",
              "       [3, 2, 7, 5, 1, 4, 6, 0],\n",
              "       [1, 3, 2, 7, 4, 5, 0, 6],\n",
              "       [5, 1, 7, 2, 4, 6, 3, 0],\n",
              "       [5, 4, 6, 1, 7, 0, 3, 2],\n",
              "       [1, 2, 4, 5, 3, 0, 7, 6],\n",
              "       [2, 3, 4, 7, 6, 5, 0, 1],\n",
              "       [1, 7, 6, 0, 2, 3, 5, 4],\n",
              "       [7, 6, 4, 0, 3, 2, 1, 5],\n",
              "       [0, 6, 2, 4, 3, 5, 7, 1],\n",
              "       [3, 0, 6, 2, 7, 5, 4, 1],\n",
              "       [0, 6, 5, 4, 7, 2, 1, 3],\n",
              "       [6, 4, 0, 3, 1, 7, 5, 2],\n",
              "       [7, 2, 5, 0, 3, 6, 1, 4],\n",
              "       [6, 7, 3, 4, 2, 5, 0, 1],\n",
              "       [7, 0, 4, 5, 3, 1, 6, 2],\n",
              "       [4, 2, 6, 1, 0, 3, 7, 5],\n",
              "       [7, 6, 4, 1, 3, 5, 2, 0],\n",
              "       [3, 0, 5, 2, 1, 6, 7, 4],\n",
              "       [5, 1, 6, 7, 4, 2, 0, 3],\n",
              "       [5, 4, 7, 2, 6, 3, 0, 1],\n",
              "       [6, 1, 0, 2, 4, 3, 7, 5],\n",
              "       [7, 6, 4, 5, 3, 1, 2, 0],\n",
              "       [2, 0, 5, 7, 3, 6, 4, 1],\n",
              "       [0, 1, 7, 3, 4, 2, 6, 5],\n",
              "       [7, 4, 6, 0, 1, 2, 5, 3],\n",
              "       [0, 3, 6, 2, 5, 4, 1, 7],\n",
              "       [0, 4, 5, 3, 7, 1, 6, 2],\n",
              "       [0, 7, 1, 5, 3, 6, 2, 4],\n",
              "       [3, 6, 2, 0, 7, 4, 1, 5],\n",
              "       [2, 6, 3, 4, 5, 7, 1, 0],\n",
              "       [7, 0, 3, 6, 4, 5, 2, 1],\n",
              "       [7, 5, 0, 3, 2, 6, 4, 1],\n",
              "       [6, 0, 2, 7, 1, 4, 5, 3],\n",
              "       [4, 7, 2, 6, 5, 3, 0, 1],\n",
              "       [6, 5, 2, 0, 1, 3, 4, 7],\n",
              "       [7, 3, 0, 6, 1, 5, 2, 4]])"
            ]
          },
          "metadata": {},
          "execution_count": 10
        }
      ]
    },
    {
      "cell_type": "markdown",
      "source": [
        "##1.2 Codificación real\n",
        "Para la codificación real"
      ],
      "metadata": {
        "id": "D5qdfvE06iu8"
      }
    },
    {
      "cell_type": "markdown",
      "source": [
        "## Evaluar la población\n",
        "Al evaluar la población tendremos que fijarmos en que las reinas no se ataquen entre sí. Con la codificación que tenemos, ya hemos asegurado que no haya dos reinas en el mismo renglón."
      ],
      "metadata": {
        "id": "Q-E83NhWTV-2"
      }
    },
    {
      "cell_type": "markdown",
      "source": [
        "### Codificación entera\n",
        " y para la codificación entera también aseguramos que no haya dos reinas en la misma columna, ya que estamos usando permutaciones sin repetición, por lo tanto, para esta codificación solo queda checar los posibles ataques en diagonal.\n",
        "\n",
        "Para checar si la reina en la posición $(i,j)$ puede atacar a alguna otra, tenemos que checar si hay reinas en las posiciones $(i,j) \\pm (k,k)$, con $k$ un entero entre $1$ y $n-j$."
      ],
      "metadata": {
        "id": "I3BUq4UpDJjl"
      }
    },
    {
      "cell_type": "code",
      "source": [
        "def evaluar(pob, codif):\n",
        "  ataques = []\n",
        "\n",
        "  for individuo in pob:\n",
        "    individuo = codif(individuo)\n",
        "    ataque = 0.0\n",
        "\n",
        "    for i in range(individuo.size):\n",
        "      for j in range(i+1, individuo.size):\n",
        "        #print(i,j)\n",
        "        if individuo[i] == individuo[j]:\n",
        "          ataque+=1.0\n",
        "\n",
        "        if abs(i-j)==abs(individuo[i]-individuo[j]):\n",
        "          ataque+=1.0\n",
        "                    #print(f'Ataques hasta ahora:{ataque}')\n",
        "\n",
        "    # Penalización por ciudades repetidas\n",
        "    unq,c = np.unique(individuo,return_counts=1)\n",
        "    ataque = ataque + np.sum(c-1)\n",
        "\n",
        "    individuo = np.append(individuo.astype(int), ataque)\n",
        "    ataques.append(individuo)\n",
        "\n",
        "  return np.array(ataques)"
      ],
      "metadata": {
        "id": "_TGehAf4uWir"
      },
      "execution_count": null,
      "outputs": []
    },
    {
      "cell_type": "code",
      "source": [
        "pobEvaluada = evaluar(pobE,codifEnt)\n",
        "pobEvaluada"
      ],
      "metadata": {
        "colab": {
          "base_uri": "https://localhost:8080/"
        },
        "id": "L1gXt4hE-Irx",
        "outputId": "90eaec26-987d-45ac-ab38-b3b384a1aa6c"
      },
      "execution_count": null,
      "outputs": [
        {
          "output_type": "execute_result",
          "data": {
            "text/plain": [
              "array([[ 5.,  2.,  1.,  4.,  7.,  0.,  3.,  6.,  4.],\n",
              "       [ 4.,  2.,  0.,  6.,  5.,  1.,  7.,  3.,  5.],\n",
              "       [ 3.,  4.,  1.,  6.,  2.,  0.,  7.,  5.,  6.],\n",
              "       [ 6.,  2.,  7.,  1.,  5.,  0.,  4.,  3.,  4.],\n",
              "       [ 5.,  0.,  2.,  6.,  1.,  3.,  7.,  4.,  2.],\n",
              "       [ 0.,  3.,  2.,  5.,  1.,  7.,  4.,  6.,  5.],\n",
              "       [ 4.,  1.,  2.,  3.,  7.,  6.,  5.,  0.,  7.],\n",
              "       [ 7.,  2.,  6.,  4.,  0.,  1.,  5.,  3.,  5.],\n",
              "       [ 4.,  7.,  5.,  3.,  0.,  1.,  6.,  2.,  4.],\n",
              "       [ 5.,  7.,  1.,  0.,  4.,  6.,  3.,  2.,  4.],\n",
              "       [ 0.,  5.,  4.,  7.,  3.,  1.,  6.,  2.,  5.],\n",
              "       [ 0.,  3.,  4.,  5.,  2.,  7.,  6.,  1., 10.],\n",
              "       [ 1.,  3.,  0.,  4.,  2.,  5.,  7.,  6.,  5.],\n",
              "       [ 1.,  5.,  4.,  7.,  6.,  0.,  2.,  3.,  7.],\n",
              "       [ 6.,  1.,  4.,  0.,  3.,  7.,  5.,  2.,  3.],\n",
              "       [ 4.,  3.,  6.,  1.,  5.,  0.,  2.,  7.,  5.],\n",
              "       [ 5.,  0.,  6.,  1.,  7.,  3.,  4.,  2.,  4.],\n",
              "       [ 3.,  7.,  2.,  1.,  4.,  5.,  0.,  6.,  5.],\n",
              "       [ 3.,  4.,  0.,  7.,  2.,  5.,  1.,  6.,  3.],\n",
              "       [ 1.,  7.,  4.,  2.,  0.,  3.,  6.,  5.,  3.],\n",
              "       [ 2.,  7.,  6.,  5.,  3.,  1.,  4.,  0.,  5.],\n",
              "       [ 0.,  1.,  4.,  5.,  6.,  2.,  3.,  7.,  7.],\n",
              "       [ 2.,  4.,  6.,  7.,  5.,  1.,  3.,  0.,  2.],\n",
              "       [ 3.,  7.,  1.,  2.,  4.,  0.,  5.,  6.,  9.],\n",
              "       [ 3.,  2.,  7.,  5.,  1.,  4.,  6.,  0.,  2.],\n",
              "       [ 1.,  3.,  2.,  7.,  4.,  5.,  0.,  6.,  5.],\n",
              "       [ 5.,  1.,  7.,  2.,  4.,  6.,  3.,  0.,  4.],\n",
              "       [ 5.,  4.,  6.,  1.,  7.,  0.,  3.,  2.,  6.],\n",
              "       [ 1.,  2.,  4.,  5.,  3.,  0.,  7.,  6.,  6.],\n",
              "       [ 2.,  3.,  4.,  7.,  6.,  5.,  0.,  1., 11.],\n",
              "       [ 1.,  7.,  6.,  0.,  2.,  3.,  5.,  4.,  6.],\n",
              "       [ 7.,  6.,  4.,  0.,  3.,  2.,  1.,  5., 11.],\n",
              "       [ 0.,  6.,  2.,  4.,  3.,  5.,  7.,  1.,  7.],\n",
              "       [ 3.,  0.,  6.,  2.,  7.,  5.,  4.,  1.,  4.],\n",
              "       [ 0.,  6.,  5.,  4.,  7.,  2.,  1.,  3., 11.],\n",
              "       [ 6.,  4.,  0.,  3.,  1.,  7.,  5.,  2.,  2.],\n",
              "       [ 7.,  2.,  5.,  0.,  3.,  6.,  1.,  4., 10.],\n",
              "       [ 6.,  7.,  3.,  4.,  2.,  5.,  0.,  1.,  7.],\n",
              "       [ 7.,  0.,  4.,  5.,  3.,  1.,  6.,  2.,  4.],\n",
              "       [ 4.,  2.,  6.,  1.,  0.,  3.,  7.,  5.,  9.],\n",
              "       [ 7.,  6.,  4.,  1.,  3.,  5.,  2.,  0.,  6.],\n",
              "       [ 3.,  0.,  5.,  2.,  1.,  6.,  7.,  4.,  6.],\n",
              "       [ 5.,  1.,  6.,  7.,  4.,  2.,  0.,  3.,  4.],\n",
              "       [ 5.,  4.,  7.,  2.,  6.,  3.,  0.,  1.,  6.],\n",
              "       [ 6.,  1.,  0.,  2.,  4.,  3.,  7.,  5.,  6.],\n",
              "       [ 7.,  6.,  4.,  5.,  3.,  1.,  2.,  0., 10.],\n",
              "       [ 2.,  0.,  5.,  7.,  3.,  6.,  4.,  1.,  3.],\n",
              "       [ 0.,  1.,  7.,  3.,  4.,  2.,  6.,  5., 11.],\n",
              "       [ 7.,  4.,  6.,  0.,  1.,  2.,  5.,  3.,  5.],\n",
              "       [ 0.,  3.,  6.,  2.,  5.,  4.,  1.,  7.,  3.],\n",
              "       [ 0.,  4.,  5.,  3.,  7.,  1.,  6.,  2.,  7.],\n",
              "       [ 0.,  7.,  1.,  5.,  3.,  6.,  2.,  4.,  5.],\n",
              "       [ 3.,  6.,  2.,  0.,  7.,  4.,  1.,  5.,  3.],\n",
              "       [ 2.,  6.,  3.,  4.,  5.,  7.,  1.,  0., 10.],\n",
              "       [ 7.,  0.,  3.,  6.,  4.,  5.,  2.,  1.,  4.],\n",
              "       [ 7.,  5.,  0.,  3.,  2.,  6.,  4.,  1.,  6.],\n",
              "       [ 6.,  0.,  2.,  7.,  1.,  4.,  5.,  3.,  4.],\n",
              "       [ 4.,  7.,  2.,  6.,  5.,  3.,  0.,  1.,  6.],\n",
              "       [ 6.,  5.,  2.,  0.,  1.,  3.,  4.,  7.,  4.],\n",
              "       [ 7.,  3.,  0.,  6.,  1.,  5.,  2.,  4.,  1.]])"
            ]
          },
          "metadata": {},
          "execution_count": 12
        }
      ]
    },
    {
      "cell_type": "code",
      "source": [
        "evaluar(pobE,codifEnt)[:,-1]"
      ],
      "metadata": {
        "colab": {
          "base_uri": "https://localhost:8080/"
        },
        "id": "tvcJ12yNLBWE",
        "outputId": "0068fbc9-ae08-4ca1-acaf-b1b1a92ea7df"
      },
      "execution_count": null,
      "outputs": [
        {
          "output_type": "execute_result",
          "data": {
            "text/plain": [
              "array([ 4.,  5.,  6.,  4.,  2.,  5.,  7.,  5.,  4.,  4.,  5., 10.,  5.,\n",
              "        7.,  3.,  5.,  4.,  5.,  3.,  3.,  5.,  7.,  2.,  9.,  2.,  5.,\n",
              "        4.,  6.,  6., 11.,  6., 11.,  7.,  4., 11.,  2., 10.,  7.,  4.,\n",
              "        9.,  6.,  6.,  4.,  6.,  6., 10.,  3., 11.,  5.,  3.,  7.,  5.,\n",
              "        3., 10.,  4.,  6.,  4.,  6.,  4.,  1.])"
            ]
          },
          "metadata": {},
          "execution_count": 13
        }
      ]
    },
    {
      "cell_type": "code",
      "source": [
        "np.where(evaluar(pobE,codifEnt)[:,-1] < 3)"
      ],
      "metadata": {
        "colab": {
          "base_uri": "https://localhost:8080/"
        },
        "id": "tq0sr1KoLNMy",
        "outputId": "9c43f528-4da5-4a64-b988-f9eed9496a3e"
      },
      "execution_count": null,
      "outputs": [
        {
          "output_type": "execute_result",
          "data": {
            "text/plain": [
              "(array([ 4, 22, 24, 35, 59]),)"
            ]
          },
          "metadata": {},
          "execution_count": 14
        }
      ]
    },
    {
      "cell_type": "code",
      "source": [
        "np.unique(evaluar(pobE,codifEnt)[np.where(evaluar(pobE,codifEnt)[:,-1] == 0)], axis = 0)"
      ],
      "metadata": {
        "colab": {
          "base_uri": "https://localhost:8080/"
        },
        "id": "VGJCpnHuKl1O",
        "outputId": "b079618a-c531-479b-84f9-82ddf8c49c1b"
      },
      "execution_count": null,
      "outputs": [
        {
          "output_type": "execute_result",
          "data": {
            "text/plain": [
              "array([], shape=(0, 9), dtype=float64)"
            ]
          },
          "metadata": {},
          "execution_count": 15
        }
      ]
    },
    {
      "cell_type": "markdown",
      "source": [
        "### Calcular Fitness"
      ],
      "metadata": {
        "id": "r8OQfpdMTfu1"
      }
    },
    {
      "cell_type": "code",
      "source": [
        "def calcularFitness(pob):\n",
        "  total = np.sum(pob, axis = 0)[-1]\n",
        "  #print(total)\n",
        "\n",
        "  for i in pob:\n",
        "    #print(i[-1])\n",
        "    i[-1] = np.abs(1 - i[-1]/(total + np.nextafter(0,1)))\n",
        "\n",
        "  return pob"
      ],
      "metadata": {
        "id": "e_zoFdeyADri"
      },
      "execution_count": null,
      "outputs": []
    },
    {
      "cell_type": "code",
      "source": [
        "pobEvaluada = calcularFitness(pobEvaluada)\n",
        "pobEvaluada"
      ],
      "metadata": {
        "colab": {
          "base_uri": "https://localhost:8080/"
        },
        "id": "lCcAW-VoRtrO",
        "outputId": "d25c89e9-1b64-4d57-fc4a-b2e496d7dd66"
      },
      "execution_count": null,
      "outputs": [
        {
          "output_type": "execute_result",
          "data": {
            "text/plain": [
              "array([[5.        , 2.        , 1.        , 4.        , 7.        ,\n",
              "        0.        , 3.        , 6.        , 0.98802395],\n",
              "       [4.        , 2.        , 0.        , 6.        , 5.        ,\n",
              "        1.        , 7.        , 3.        , 0.98502994],\n",
              "       [3.        , 4.        , 1.        , 6.        , 2.        ,\n",
              "        0.        , 7.        , 5.        , 0.98203593],\n",
              "       [6.        , 2.        , 7.        , 1.        , 5.        ,\n",
              "        0.        , 4.        , 3.        , 0.98802395],\n",
              "       [5.        , 0.        , 2.        , 6.        , 1.        ,\n",
              "        3.        , 7.        , 4.        , 0.99401198],\n",
              "       [0.        , 3.        , 2.        , 5.        , 1.        ,\n",
              "        7.        , 4.        , 6.        , 0.98502994],\n",
              "       [4.        , 1.        , 2.        , 3.        , 7.        ,\n",
              "        6.        , 5.        , 0.        , 0.97904192],\n",
              "       [7.        , 2.        , 6.        , 4.        , 0.        ,\n",
              "        1.        , 5.        , 3.        , 0.98502994],\n",
              "       [4.        , 7.        , 5.        , 3.        , 0.        ,\n",
              "        1.        , 6.        , 2.        , 0.98802395],\n",
              "       [5.        , 7.        , 1.        , 0.        , 4.        ,\n",
              "        6.        , 3.        , 2.        , 0.98802395],\n",
              "       [0.        , 5.        , 4.        , 7.        , 3.        ,\n",
              "        1.        , 6.        , 2.        , 0.98502994],\n",
              "       [0.        , 3.        , 4.        , 5.        , 2.        ,\n",
              "        7.        , 6.        , 1.        , 0.97005988],\n",
              "       [1.        , 3.        , 0.        , 4.        , 2.        ,\n",
              "        5.        , 7.        , 6.        , 0.98502994],\n",
              "       [1.        , 5.        , 4.        , 7.        , 6.        ,\n",
              "        0.        , 2.        , 3.        , 0.97904192],\n",
              "       [6.        , 1.        , 4.        , 0.        , 3.        ,\n",
              "        7.        , 5.        , 2.        , 0.99101796],\n",
              "       [4.        , 3.        , 6.        , 1.        , 5.        ,\n",
              "        0.        , 2.        , 7.        , 0.98502994],\n",
              "       [5.        , 0.        , 6.        , 1.        , 7.        ,\n",
              "        3.        , 4.        , 2.        , 0.98802395],\n",
              "       [3.        , 7.        , 2.        , 1.        , 4.        ,\n",
              "        5.        , 0.        , 6.        , 0.98502994],\n",
              "       [3.        , 4.        , 0.        , 7.        , 2.        ,\n",
              "        5.        , 1.        , 6.        , 0.99101796],\n",
              "       [1.        , 7.        , 4.        , 2.        , 0.        ,\n",
              "        3.        , 6.        , 5.        , 0.99101796],\n",
              "       [2.        , 7.        , 6.        , 5.        , 3.        ,\n",
              "        1.        , 4.        , 0.        , 0.98502994],\n",
              "       [0.        , 1.        , 4.        , 5.        , 6.        ,\n",
              "        2.        , 3.        , 7.        , 0.97904192],\n",
              "       [2.        , 4.        , 6.        , 7.        , 5.        ,\n",
              "        1.        , 3.        , 0.        , 0.99401198],\n",
              "       [3.        , 7.        , 1.        , 2.        , 4.        ,\n",
              "        0.        , 5.        , 6.        , 0.97305389],\n",
              "       [3.        , 2.        , 7.        , 5.        , 1.        ,\n",
              "        4.        , 6.        , 0.        , 0.99401198],\n",
              "       [1.        , 3.        , 2.        , 7.        , 4.        ,\n",
              "        5.        , 0.        , 6.        , 0.98502994],\n",
              "       [5.        , 1.        , 7.        , 2.        , 4.        ,\n",
              "        6.        , 3.        , 0.        , 0.98802395],\n",
              "       [5.        , 4.        , 6.        , 1.        , 7.        ,\n",
              "        0.        , 3.        , 2.        , 0.98203593],\n",
              "       [1.        , 2.        , 4.        , 5.        , 3.        ,\n",
              "        0.        , 7.        , 6.        , 0.98203593],\n",
              "       [2.        , 3.        , 4.        , 7.        , 6.        ,\n",
              "        5.        , 0.        , 1.        , 0.96706587],\n",
              "       [1.        , 7.        , 6.        , 0.        , 2.        ,\n",
              "        3.        , 5.        , 4.        , 0.98203593],\n",
              "       [7.        , 6.        , 4.        , 0.        , 3.        ,\n",
              "        2.        , 1.        , 5.        , 0.96706587],\n",
              "       [0.        , 6.        , 2.        , 4.        , 3.        ,\n",
              "        5.        , 7.        , 1.        , 0.97904192],\n",
              "       [3.        , 0.        , 6.        , 2.        , 7.        ,\n",
              "        5.        , 4.        , 1.        , 0.98802395],\n",
              "       [0.        , 6.        , 5.        , 4.        , 7.        ,\n",
              "        2.        , 1.        , 3.        , 0.96706587],\n",
              "       [6.        , 4.        , 0.        , 3.        , 1.        ,\n",
              "        7.        , 5.        , 2.        , 0.99401198],\n",
              "       [7.        , 2.        , 5.        , 0.        , 3.        ,\n",
              "        6.        , 1.        , 4.        , 0.97005988],\n",
              "       [6.        , 7.        , 3.        , 4.        , 2.        ,\n",
              "        5.        , 0.        , 1.        , 0.97904192],\n",
              "       [7.        , 0.        , 4.        , 5.        , 3.        ,\n",
              "        1.        , 6.        , 2.        , 0.98802395],\n",
              "       [4.        , 2.        , 6.        , 1.        , 0.        ,\n",
              "        3.        , 7.        , 5.        , 0.97305389],\n",
              "       [7.        , 6.        , 4.        , 1.        , 3.        ,\n",
              "        5.        , 2.        , 0.        , 0.98203593],\n",
              "       [3.        , 0.        , 5.        , 2.        , 1.        ,\n",
              "        6.        , 7.        , 4.        , 0.98203593],\n",
              "       [5.        , 1.        , 6.        , 7.        , 4.        ,\n",
              "        2.        , 0.        , 3.        , 0.98802395],\n",
              "       [5.        , 4.        , 7.        , 2.        , 6.        ,\n",
              "        3.        , 0.        , 1.        , 0.98203593],\n",
              "       [6.        , 1.        , 0.        , 2.        , 4.        ,\n",
              "        3.        , 7.        , 5.        , 0.98203593],\n",
              "       [7.        , 6.        , 4.        , 5.        , 3.        ,\n",
              "        1.        , 2.        , 0.        , 0.97005988],\n",
              "       [2.        , 0.        , 5.        , 7.        , 3.        ,\n",
              "        6.        , 4.        , 1.        , 0.99101796],\n",
              "       [0.        , 1.        , 7.        , 3.        , 4.        ,\n",
              "        2.        , 6.        , 5.        , 0.96706587],\n",
              "       [7.        , 4.        , 6.        , 0.        , 1.        ,\n",
              "        2.        , 5.        , 3.        , 0.98502994],\n",
              "       [0.        , 3.        , 6.        , 2.        , 5.        ,\n",
              "        4.        , 1.        , 7.        , 0.99101796],\n",
              "       [0.        , 4.        , 5.        , 3.        , 7.        ,\n",
              "        1.        , 6.        , 2.        , 0.97904192],\n",
              "       [0.        , 7.        , 1.        , 5.        , 3.        ,\n",
              "        6.        , 2.        , 4.        , 0.98502994],\n",
              "       [3.        , 6.        , 2.        , 0.        , 7.        ,\n",
              "        4.        , 1.        , 5.        , 0.99101796],\n",
              "       [2.        , 6.        , 3.        , 4.        , 5.        ,\n",
              "        7.        , 1.        , 0.        , 0.97005988],\n",
              "       [7.        , 0.        , 3.        , 6.        , 4.        ,\n",
              "        5.        , 2.        , 1.        , 0.98802395],\n",
              "       [7.        , 5.        , 0.        , 3.        , 2.        ,\n",
              "        6.        , 4.        , 1.        , 0.98203593],\n",
              "       [6.        , 0.        , 2.        , 7.        , 1.        ,\n",
              "        4.        , 5.        , 3.        , 0.98802395],\n",
              "       [4.        , 7.        , 2.        , 6.        , 5.        ,\n",
              "        3.        , 0.        , 1.        , 0.98203593],\n",
              "       [6.        , 5.        , 2.        , 0.        , 1.        ,\n",
              "        3.        , 4.        , 7.        , 0.98802395],\n",
              "       [7.        , 3.        , 0.        , 6.        , 1.        ,\n",
              "        5.        , 2.        , 4.        , 0.99700599]])"
            ]
          },
          "metadata": {},
          "execution_count": 17
        }
      ]
    },
    {
      "cell_type": "markdown",
      "source": [
        "### Calcular probabilidad de selección"
      ],
      "metadata": {
        "id": "dgjcfuyrTju3"
      }
    },
    {
      "cell_type": "code",
      "source": [
        "def calcularPS(x):\n",
        "  total = np.sum(x, axis = 0)[-1]\n",
        "  \n",
        "  for i in x:\n",
        "    if i[-1]/total >= 0:\n",
        "        i[-1] = i[-1]/total\n",
        "    else:\n",
        "        print('Probabilidad negativa!!!')\n",
        "        print(i)\n",
        "        i[-1] = np.nextafter(0,1)\n",
        "  return x"
      ],
      "metadata": {
        "id": "X8Vv04EZHMxq"
      },
      "execution_count": null,
      "outputs": []
    },
    {
      "cell_type": "code",
      "source": [
        "pobEvaluada = calcularPS(pobEvaluada)\n",
        "print(np.sum(pobEvaluada[:,-1], axis = 0) )#para checar que la suma de las probabilidades sí den 1\n",
        "#print(pobEvaluada)\n"
      ],
      "metadata": {
        "colab": {
          "base_uri": "https://localhost:8080/"
        },
        "id": "xYSXQ3smI9v_",
        "outputId": "ed728150-843d-40b0-8b5d-a58353661f1b"
      },
      "execution_count": null,
      "outputs": [
        {
          "output_type": "stream",
          "name": "stdout",
          "text": [
            "1.0000000000000007\n"
          ]
        }
      ]
    },
    {
      "cell_type": "markdown",
      "source": [
        "### Seleccionar individuos para el pool de cruza"
      ],
      "metadata": {
        "id": "mIJY-DMtTptB"
      }
    },
    {
      "cell_type": "code",
      "source": [
        "def seleccionar(x,pob):\n",
        "  pool = []\n",
        "  for i in range(len(pob)):\n",
        "    r = np.random.choice(range(len(pob)), p=x[:,-1])\n",
        "\n",
        "    pool.append(pob[r])\n",
        "  \n",
        "  pool = np.array(pool)\n",
        "\n",
        "  return pool"
      ],
      "metadata": {
        "id": "1ZKIj-GkTH76"
      },
      "execution_count": null,
      "outputs": []
    },
    {
      "cell_type": "code",
      "source": [
        "pool = seleccionar(pobEvaluada,pobE)\n",
        "pool"
      ],
      "metadata": {
        "colab": {
          "base_uri": "https://localhost:8080/"
        },
        "id": "Umy70HpSTNVN",
        "outputId": "bfa73674-95d6-4721-dfd8-65854d5a20a2"
      },
      "execution_count": null,
      "outputs": [
        {
          "output_type": "execute_result",
          "data": {
            "text/plain": [
              "array([[5, 7, 1, 0, 4, 6, 3, 2],\n",
              "       [7, 4, 6, 0, 1, 2, 5, 3],\n",
              "       [1, 7, 4, 2, 0, 3, 6, 5],\n",
              "       [5, 4, 6, 1, 7, 0, 3, 2],\n",
              "       [5, 4, 7, 2, 6, 3, 0, 1],\n",
              "       [7, 0, 4, 5, 3, 1, 6, 2],\n",
              "       [1, 2, 4, 5, 3, 0, 7, 6],\n",
              "       [3, 7, 1, 2, 4, 0, 5, 6],\n",
              "       [2, 3, 4, 7, 6, 5, 0, 1],\n",
              "       [0, 3, 4, 5, 2, 7, 6, 1],\n",
              "       [0, 1, 7, 3, 4, 2, 6, 5],\n",
              "       [0, 3, 2, 5, 1, 7, 4, 6],\n",
              "       [1, 2, 4, 5, 3, 0, 7, 6],\n",
              "       [7, 6, 4, 0, 3, 2, 1, 5],\n",
              "       [1, 3, 0, 4, 2, 5, 7, 6],\n",
              "       [0, 4, 5, 3, 7, 1, 6, 2],\n",
              "       [5, 7, 1, 0, 4, 6, 3, 2],\n",
              "       [7, 0, 4, 5, 3, 1, 6, 2],\n",
              "       [7, 2, 6, 4, 0, 1, 5, 3],\n",
              "       [3, 0, 5, 2, 1, 6, 7, 4],\n",
              "       [5, 1, 7, 2, 4, 6, 3, 0],\n",
              "       [5, 1, 6, 7, 4, 2, 0, 3],\n",
              "       [0, 6, 5, 4, 7, 2, 1, 3],\n",
              "       [6, 4, 0, 3, 1, 7, 5, 2],\n",
              "       [6, 7, 3, 4, 2, 5, 0, 1],\n",
              "       [7, 6, 4, 5, 3, 1, 2, 0],\n",
              "       [7, 6, 4, 1, 3, 5, 2, 0],\n",
              "       [1, 5, 4, 7, 6, 0, 2, 3],\n",
              "       [3, 6, 2, 0, 7, 4, 1, 5],\n",
              "       [7, 5, 0, 3, 2, 6, 4, 1],\n",
              "       [3, 4, 1, 6, 2, 0, 7, 5],\n",
              "       [7, 2, 6, 4, 0, 1, 5, 3],\n",
              "       [5, 1, 7, 2, 4, 6, 3, 0],\n",
              "       [1, 2, 4, 5, 3, 0, 7, 6],\n",
              "       [0, 3, 2, 5, 1, 7, 4, 6],\n",
              "       [4, 2, 6, 1, 0, 3, 7, 5],\n",
              "       [5, 0, 2, 6, 1, 3, 7, 4],\n",
              "       [3, 7, 2, 1, 4, 5, 0, 6],\n",
              "       [4, 7, 2, 6, 5, 3, 0, 1],\n",
              "       [2, 4, 6, 7, 5, 1, 3, 0],\n",
              "       [7, 6, 4, 1, 3, 5, 2, 0],\n",
              "       [6, 5, 2, 0, 1, 3, 4, 7],\n",
              "       [0, 6, 2, 4, 3, 5, 7, 1],\n",
              "       [6, 1, 0, 2, 4, 3, 7, 5],\n",
              "       [7, 5, 0, 3, 2, 6, 4, 1],\n",
              "       [5, 0, 2, 6, 1, 3, 7, 4],\n",
              "       [7, 2, 5, 0, 3, 6, 1, 4],\n",
              "       [3, 7, 1, 2, 4, 0, 5, 6],\n",
              "       [4, 7, 5, 3, 0, 1, 6, 2],\n",
              "       [7, 3, 0, 6, 1, 5, 2, 4],\n",
              "       [3, 4, 0, 7, 2, 5, 1, 6],\n",
              "       [2, 3, 4, 7, 6, 5, 0, 1],\n",
              "       [6, 0, 2, 7, 1, 4, 5, 3],\n",
              "       [7, 5, 0, 3, 2, 6, 4, 1],\n",
              "       [3, 0, 6, 2, 7, 5, 4, 1],\n",
              "       [4, 7, 2, 6, 5, 3, 0, 1],\n",
              "       [1, 2, 4, 5, 3, 0, 7, 6],\n",
              "       [7, 2, 5, 0, 3, 6, 1, 4],\n",
              "       [3, 4, 0, 7, 2, 5, 1, 6],\n",
              "       [3, 6, 2, 0, 7, 4, 1, 5]])"
            ]
          },
          "metadata": {},
          "execution_count": 21
        }
      ]
    },
    {
      "cell_type": "markdown",
      "source": [
        "### Cruza"
      ],
      "metadata": {
        "id": "S8uar40VADa2"
      }
    },
    {
      "cell_type": "markdown",
      "source": [
        "Cruza en la codifcación entera:"
      ],
      "metadata": {
        "id": "quSRDKId5uJ-"
      }
    },
    {
      "cell_type": "code",
      "source": [
        "def cruzaEnt(pool, pc):\n",
        "  nuevaGen = np.zeros((len(pool),len(pool[1])))\n",
        "\n",
        "  l = len(pool[1])\n",
        "\n",
        "  for i in range(len(pool)//2):\n",
        "    hijo1 = -np.ones(l)\n",
        "    hijo2 = -np.ones(l)\n",
        "    \n",
        "    padre1 = pool[2*i]\n",
        "    padre2 = pool[2*i+1]\n",
        "    r = random.uniform(0,1)\n",
        "\n",
        "    if r <= pc:\n",
        "\n",
        "      n1 = random.randint(0,l)\n",
        "      n2 = random.randint(0,l)\n",
        "      cruce1 = min(n1,n2)\n",
        "      cruce2 = max(n1,n2)\n",
        "      \n",
        "     \n",
        "      hijo1[cruce1:cruce2] = padre1[cruce1:cruce2]\n",
        "\n",
        "      res2 = [item for item in padre2 if item not in hijo1]\n",
        "     \n",
        "      hijo1[0:cruce1] = res2[0:cruce1]\n",
        "      \n",
        "      hijo1[cruce2:] = res2[cruce1:]\n",
        "      \n",
        "      hijo2[cruce1:cruce2] = padre2[cruce1:cruce2]\n",
        "      res1 = [item for item in padre1 if item not in hijo2]\n",
        "\n",
        "      hijo2[0:cruce1] = res1[0:cruce1]\n",
        "      hijo2[cruce2:] = res1[cruce1:]\n",
        "    \n",
        "    else:\n",
        "      hijo1 = padre1\n",
        "      hijo2 = padre2\n",
        "\n",
        "    nuevaGen[2*i] = hijo1\n",
        "    nuevaGen[2*i+1] = hijo2\n",
        "\n",
        "  return np.array(nuevaGen)\n",
        "    "
      ],
      "metadata": {
        "id": "GY9YyotVZfua"
      },
      "execution_count": null,
      "outputs": []
    },
    {
      "cell_type": "markdown",
      "source": [
        "Cruza en la codificación Binaria:"
      ],
      "metadata": {
        "id": "R6-tf4gt5zIO"
      }
    },
    {
      "cell_type": "code",
      "source": [
        "def cruzaBin(pool,pc=1):\n",
        "  nuevaGen = np.zeros((len(pool),len(pool[1])))\n",
        "\n",
        "  l = len(pool[1])\n",
        "\n",
        "  hijo1 = np.zeros(l)\n",
        "  hijo2 = np.zeros(l)\n",
        "\n",
        "  for i in range(len(pool)//2):\n",
        "    padre1 = pool[2*i]\n",
        "    padre2 = pool[2*i+1]\n",
        "    r = random.uniform(0,1)\n",
        "\n",
        "    if r <= pc:\n",
        "\n",
        "      cruce = random.randint(0,l)\n",
        "      #print(cruce)\n",
        "\n",
        "      hijo1[0:cruce] = padre1[0:cruce]\n",
        "      hijo1[cruce:l] = padre2[cruce:l]\n",
        "\n",
        "      hijo2[0:cruce] = padre2[0:cruce]\n",
        "      hijo2[cruce:l] = padre1[cruce:l]\n",
        "    \n",
        "    else:\n",
        "      hijo1 = padre1\n",
        "      hijo2 = padre2\n",
        "\n",
        "    nuevaGen[2*i] = hijo1\n",
        "    nuevaGen[2*i+1] = hijo2\n",
        "\n",
        "  return np.array(nuevaGen)"
      ],
      "metadata": {
        "id": "lmgVM3pD33RU"
      },
      "execution_count": null,
      "outputs": []
    },
    {
      "cell_type": "code",
      "source": [
        "nuevaGen = cruzaEnt(pool,1)\n",
        "nuevaGen"
      ],
      "metadata": {
        "colab": {
          "base_uri": "https://localhost:8080/"
        },
        "id": "bqtGvXYSnJTQ",
        "outputId": "9f2bfdd2-21cd-420e-c8cf-d1a107d71335"
      },
      "execution_count": null,
      "outputs": [
        {
          "output_type": "execute_result",
          "data": {
            "text/plain": [
              "array([[7., 2., 1., 0., 4., 6., 3., 5.],\n",
              "       [7., 4., 6., 0., 1., 2., 5., 3.],\n",
              "       [5., 6., 4., 2., 1., 7., 0., 3.],\n",
              "       [7., 4., 6., 1., 2., 0., 3., 5.],\n",
              "       [7., 0., 4., 5., 6., 3., 1., 2.],\n",
              "       [5., 4., 7., 2., 3., 6., 0., 1.],\n",
              "       [3., 7., 1., 5., 2., 4., 0., 6.],\n",
              "       [1., 4., 5., 2., 3., 0., 7., 6.],\n",
              "       [3., 4., 2., 7., 6., 5., 0., 1.],\n",
              "       [3., 4., 5., 0., 2., 7., 6., 1.],\n",
              "       [0., 3., 5., 1., 7., 2., 4., 6.],\n",
              "       [0., 1., 3., 4., 2., 7., 6., 5.],\n",
              "       [7., 6., 4., 0., 3., 2., 1., 5.],\n",
              "       [1., 2., 4., 5., 3., 0., 7., 6.],\n",
              "       [0., 4., 5., 3., 1., 6., 7., 2.],\n",
              "       [1., 3., 0., 4., 2., 5., 6., 7.],\n",
              "       [7., 0., 4., 5., 1., 6., 3., 2.],\n",
              "       [5., 7., 0., 4., 3., 1., 6., 2.],\n",
              "       [3., 2., 6., 4., 0., 5., 1., 7.],\n",
              "       [7., 0., 5., 2., 6., 4., 1., 3.],\n",
              "       [5., 1., 6., 7., 4., 2., 0., 3.],\n",
              "       [5., 1., 7., 2., 4., 6., 3., 0.],\n",
              "       [0., 6., 5., 4., 7., 3., 1., 2.],\n",
              "       [6., 4., 0., 3., 1., 5., 7., 2.],\n",
              "       [7., 6., 3., 4., 2., 5., 0., 1.],\n",
              "       [6., 7., 4., 5., 3., 1., 2., 0.],\n",
              "       [1., 5., 4., 7., 6., 0., 2., 3.],\n",
              "       [7., 6., 4., 1., 3., 5., 2., 0.],\n",
              "       [5., 0., 3., 2., 7., 4., 1., 6.],\n",
              "       [3., 0., 7., 1., 2., 6., 4., 5.],\n",
              "       [3., 4., 1., 7., 2., 6., 0., 5.],\n",
              "       [7., 2., 6., 3., 4., 1., 0., 5.],\n",
              "       [5., 1., 7., 2., 4., 6., 3., 0.],\n",
              "       [1., 2., 4., 5., 3., 0., 7., 6.],\n",
              "       [2., 6., 0., 5., 1., 7., 4., 3.],\n",
              "       [2., 5., 4., 1., 0., 3., 7., 6.],\n",
              "       [7., 2., 4., 6., 1., 3., 5., 0.],\n",
              "       [0., 2., 6., 1., 4., 5., 3., 7.],\n",
              "       [4., 7., 2., 6., 5., 3., 1., 0.],\n",
              "       [4., 2., 6., 7., 5., 1., 3., 0.],\n",
              "       [6., 5., 1., 3., 4., 7., 2., 0.],\n",
              "       [6., 1., 3., 5., 2., 0., 4., 7.],\n",
              "       [6., 1., 2., 0., 4., 3., 7., 5.],\n",
              "       [6., 2., 0., 4., 3., 5., 7., 1.],\n",
              "       [7., 5., 0., 2., 6., 1., 3., 4.],\n",
              "       [5., 0., 2., 7., 3., 6., 4., 1.],\n",
              "       [3., 7., 1., 2., 4., 0., 5., 6.],\n",
              "       [7., 2., 5., 0., 3., 6., 1., 4.],\n",
              "       [7., 3., 5., 0., 6., 1., 2., 4.],\n",
              "       [4., 7., 0., 5., 3., 1., 6., 2.],\n",
              "       [2., 4., 3., 7., 6., 5., 0., 1.],\n",
              "       [4., 3., 0., 7., 2., 5., 1., 6.],\n",
              "       [5., 0., 2., 7., 1., 3., 6., 4.],\n",
              "       [6., 5., 0., 3., 2., 7., 1., 4.],\n",
              "       [4., 7., 2., 6., 3., 5., 0., 1.],\n",
              "       [0., 6., 2., 7., 5., 3., 4., 1.],\n",
              "       [1., 2., 4., 5., 3., 7., 0., 6.],\n",
              "       [7., 2., 5., 0., 3., 1., 4., 6.],\n",
              "       [3., 4., 0., 7., 6., 2., 1., 5.],\n",
              "       [3., 6., 2., 0., 4., 7., 5., 1.]])"
            ]
          },
          "metadata": {},
          "execution_count": 24
        }
      ]
    },
    {
      "cell_type": "markdown",
      "source": [
        "### Mutación"
      ],
      "metadata": {
        "id": "9tHiOGhujLL-"
      }
    },
    {
      "cell_type": "markdown",
      "source": [
        "Mutación en la codificación entera usando dos puntos:"
      ],
      "metadata": {
        "id": "TjKTViYz53xo"
      }
    },
    {
      "cell_type": "code",
      "source": [
        "def mutarEnt(nuevaGen,pm = 1):\n",
        "  prob = random.uniform(np.nextafter(0,1),1.0)\n",
        "  l = len(nuevaGen[0])\n",
        "\n",
        "  for i in range(len(nuevaGen)):\n",
        "    if prob <= pm:\n",
        "      n1 = random.randint(0,l-1)\n",
        "      n2 = random.randint(0,l-1)\n",
        "\n",
        "      #print(i, n1)\n",
        "      #print(nuevaGen.shape)\n",
        "\n",
        "      temp = nuevaGen[i,n1]\n",
        "      nuevaGen[i,n1] = nuevaGen[i,n2]\n",
        "      nuevaGen[i,n2] = temp\n",
        "\n",
        "  return np.array(nuevaGen)"
      ],
      "metadata": {
        "id": "ny1aPXv-jTAE"
      },
      "execution_count": null,
      "outputs": []
    },
    {
      "cell_type": "markdown",
      "source": [
        "Muta en la codificación binaria:"
      ],
      "metadata": {
        "id": "xiW-0RRe6AIp"
      }
    },
    {
      "cell_type": "code",
      "source": [
        "def mutarBin(nuevaGen,pm):\n",
        "  #pm = 1/(2*nuevaGen.shape[1])\n",
        "  for i in range(len(nuevaGen)):\n",
        "    for j in range(len(nuevaGen[i])):\n",
        "      num = random.uniform(np.nextafter(0,1),1.0)\n",
        "      if num <= pm:\n",
        "        if nuevaGen[i,j] == 0:\n",
        "          nuevaGen[i,j] = 1\n",
        "        else:\n",
        "          nuevaGen[i,j] = 0\n",
        "\n",
        "  return np.array(nuevaGen)"
      ],
      "metadata": {
        "id": "gpAz_UTv7SPA"
      },
      "execution_count": null,
      "outputs": []
    },
    {
      "cell_type": "code",
      "source": [
        "mutarEnt(nuevaGen,1)"
      ],
      "metadata": {
        "colab": {
          "base_uri": "https://localhost:8080/"
        },
        "id": "HRpB5VC5oL5g",
        "outputId": "32ec4f7d-4fcc-4ca6-fdad-99b3780bb6e5"
      },
      "execution_count": null,
      "outputs": [
        {
          "output_type": "execute_result",
          "data": {
            "text/plain": [
              "array([[7., 2., 1., 4., 0., 6., 3., 5.],\n",
              "       [7., 4., 3., 0., 1., 2., 5., 6.],\n",
              "       [5., 6., 3., 2., 1., 7., 0., 4.],\n",
              "       [7., 5., 6., 1., 2., 0., 3., 4.],\n",
              "       [2., 0., 4., 5., 6., 3., 1., 7.],\n",
              "       [5., 4., 7., 2., 3., 6., 0., 1.],\n",
              "       [3., 7., 1., 2., 5., 4., 0., 6.],\n",
              "       [1., 4., 5., 2., 3., 0., 6., 7.],\n",
              "       [6., 4., 2., 7., 3., 5., 0., 1.],\n",
              "       [3., 7., 5., 0., 2., 4., 6., 1.],\n",
              "       [0., 3., 7., 1., 5., 2., 4., 6.],\n",
              "       [0., 1., 6., 4., 2., 7., 3., 5.],\n",
              "       [7., 6., 5., 0., 3., 2., 1., 4.],\n",
              "       [7., 2., 4., 5., 3., 0., 1., 6.],\n",
              "       [0., 4., 5., 3., 1., 6., 7., 2.],\n",
              "       [1., 5., 0., 4., 2., 3., 6., 7.],\n",
              "       [7., 0., 2., 5., 1., 6., 3., 4.],\n",
              "       [1., 7., 0., 4., 3., 5., 6., 2.],\n",
              "       [3., 2., 6., 4., 7., 5., 1., 0.],\n",
              "       [7., 4., 5., 2., 6., 0., 1., 3.],\n",
              "       [0., 1., 6., 7., 4., 2., 5., 3.],\n",
              "       [5., 1., 7., 3., 4., 6., 2., 0.],\n",
              "       [2., 6., 5., 4., 7., 3., 1., 0.],\n",
              "       [6., 4., 0., 5., 1., 3., 7., 2.],\n",
              "       [7., 6., 3., 4., 2., 0., 5., 1.],\n",
              "       [3., 7., 4., 5., 6., 1., 2., 0.],\n",
              "       [1., 5., 2., 7., 6., 0., 4., 3.],\n",
              "       [1., 6., 4., 7., 3., 5., 2., 0.],\n",
              "       [5., 3., 0., 2., 7., 4., 1., 6.],\n",
              "       [3., 0., 7., 5., 2., 6., 4., 1.],\n",
              "       [3., 4., 1., 2., 7., 6., 0., 5.],\n",
              "       [7., 2., 0., 3., 4., 1., 6., 5.],\n",
              "       [5., 1., 0., 2., 4., 6., 3., 7.],\n",
              "       [1., 2., 4., 5., 3., 6., 7., 0.],\n",
              "       [2., 3., 0., 5., 1., 7., 4., 6.],\n",
              "       [2., 5., 4., 7., 0., 3., 1., 6.],\n",
              "       [7., 2., 4., 0., 1., 3., 5., 6.],\n",
              "       [2., 0., 6., 1., 4., 5., 3., 7.],\n",
              "       [0., 7., 2., 6., 5., 3., 1., 4.],\n",
              "       [4., 0., 6., 7., 5., 1., 3., 2.],\n",
              "       [6., 5., 1., 3., 4., 7., 0., 2.],\n",
              "       [3., 1., 6., 5., 2., 0., 4., 7.],\n",
              "       [1., 6., 2., 0., 4., 3., 7., 5.],\n",
              "       [6., 2., 7., 4., 3., 5., 0., 1.],\n",
              "       [7., 5., 0., 2., 6., 3., 1., 4.],\n",
              "       [2., 0., 5., 7., 3., 6., 4., 1.],\n",
              "       [5., 7., 1., 2., 4., 0., 3., 6.],\n",
              "       [7., 2., 0., 5., 3., 6., 1., 4.],\n",
              "       [7., 2., 5., 0., 6., 1., 3., 4.],\n",
              "       [4., 1., 0., 5., 3., 7., 6., 2.],\n",
              "       [2., 4., 5., 7., 6., 3., 0., 1.],\n",
              "       [4., 3., 0., 2., 7., 5., 1., 6.],\n",
              "       [5., 0., 3., 7., 1., 2., 6., 4.],\n",
              "       [2., 5., 0., 3., 6., 7., 1., 4.],\n",
              "       [4., 7., 2., 6., 3., 5., 0., 1.],\n",
              "       [0., 6., 2., 7., 4., 3., 5., 1.],\n",
              "       [1., 5., 4., 2., 3., 7., 0., 6.],\n",
              "       [7., 2., 5., 3., 0., 1., 4., 6.],\n",
              "       [3., 4., 0., 7., 6., 2., 1., 5.],\n",
              "       [4., 6., 2., 0., 3., 7., 5., 1.]])"
            ]
          },
          "metadata": {},
          "execution_count": 27
        }
      ]
    },
    {
      "cell_type": "code",
      "source": [
        "def minimizar(poblacion, nInd, n, d, ngeneraciones, pc, pm, codif, cruzar, mutar, nombre):\n",
        "  \n",
        "  pob = poblacion(nInd, n, d)\n",
        "  \n",
        "  mejor = []  \n",
        "  promedio = np.zeros(ngeneraciones)\n",
        "\n",
        "  for i in range(ngeneraciones):\n",
        "\n",
        "    x = evaluar(pob,codif)\n",
        "\n",
        "    mejor.append(pob[np.where(x[:,-1] == np.min(x[:,-1]))][0]) #guardamos al insividuo con el mejor desempeño\n",
        "    #print(mejor[i])\n",
        "  \n",
        "    promedio[i] = np.sum(x, axis = 0)[-1] / len(pob) #calculamos el promedio del desempeño de la población\n",
        "\n",
        "    x = calcularPS(calcularFitness(x))\n",
        " \n",
        "    pool = seleccionar(x,pob)\n",
        "    nuevaGen =  cruzar(pool,pc)\n",
        "    mutar(nuevaGen,pm)\n",
        "\n",
        "    #Elitismo:\n",
        "    k = np.random.randint(0,len(pob))\n",
        "    nuevaGen[k] = mejor[i]\n",
        "    #print(mejor[i])\n",
        "\n",
        "    pob = nuevaGen\n",
        "\n",
        "  mejor = np.array(mejor)\n",
        "\n",
        "  #soluciones = np.unique(mejor, axis = 0)[np.where(evaluar(mejor,codifEnt)[:,-1] == 0)]\n",
        "  soluciones = np.unique(mejor[np.where(evaluar(mejor,codif)[:,-1] == 0)], axis = 0)\n",
        "  print(f'Se encontraron {soluciones.shape[0]} soluciones:')\n",
        "  print(evaluar(soluciones,codif).astype('int'))\n",
        "\n",
        "# Graficar\n",
        "  import matplotlib.pyplot as plt\n",
        "\n",
        "  plt.axes(xlabel='Generación', ylabel= nombre + str(n) + 'D (x)')\n",
        "  plt.title('Desempeño ' + str(nInd) + ' individuos en ' +str(ngeneraciones) + ' generaciones\\n Con elitismo de 1 individuo')\n",
        "\n",
        "  plt.plot(promedio)\n",
        "  plt.plot(evaluar(mejor,codif)[:,-1])\n",
        "\n",
        "  plt.legend(labels=[\"Promedio\",\"Mejor individuo\"])\n",
        "  plt.show\n"
      ],
      "metadata": {
        "id": "3DUTCHVfoYWS"
      },
      "execution_count": null,
      "outputs": []
    },
    {
      "cell_type": "code",
      "source": [
        "nGen = 1000\n",
        "nInd = 500\n",
        "pc = 0.5\n",
        "pm = 0.001\n",
        "n = 10\n",
        "d = 5"
      ],
      "metadata": {
        "id": "Rrv3V_bZ79dE"
      },
      "execution_count": null,
      "outputs": []
    },
    {
      "cell_type": "code",
      "source": [
        "minimizar(pobEnt, nInd, n, d, nGen, pc, pm, codifEnt, cruzaEnt, mutarEnt, 'Codificación entera')"
      ],
      "metadata": {
        "colab": {
          "base_uri": "https://localhost:8080/",
          "height": 640
        },
        "id": "ITfanZHp4FC1",
        "outputId": "647f0768-fe45-4397-a14d-f6db92e6da78"
      },
      "execution_count": null,
      "outputs": [
        {
          "output_type": "stream",
          "name": "stdout",
          "text": [
            "Se encontraron 18 soluciones:\n",
            "[[0 3 6 9 7 2 4 8 1 5 0]\n",
            " [1 4 6 3 9 2 8 5 7 0 0]\n",
            " [2 9 6 8 0 4 1 7 5 3 0]\n",
            " [3 1 8 4 9 7 5 2 0 6 0]\n",
            " [3 7 4 2 9 6 1 5 8 0 0]\n",
            " [3 8 0 4 9 1 5 7 2 6 0]\n",
            " [4 0 7 5 2 8 1 3 9 6 0]\n",
            " [4 6 0 3 5 8 2 9 7 1 0]\n",
            " [4 7 0 3 5 8 1 9 2 6 0]\n",
            " [5 3 0 6 8 1 7 4 2 9 0]\n",
            " [6 3 9 4 1 8 2 5 7 0 0]\n",
            " [6 4 7 0 3 5 8 1 9 2 0]\n",
            " [6 4 9 1 3 7 2 8 5 0 0]\n",
            " [7 3 1 6 4 9 0 8 5 2 0]\n",
            " [9 4 0 7 3 1 6 8 5 2 0]\n",
            " [9 4 1 5 0 2 6 8 3 7 0]\n",
            " [9 4 1 7 0 3 6 8 5 2 0]\n",
            " [9 4 1 7 2 6 8 0 5 3 0]]\n"
          ]
        },
        {
          "output_type": "display_data",
          "data": {
            "text/plain": [
              "<Figure size 432x288 with 1 Axes>"
            ],
            "image/png": "[encoded data removed]"
          },
          "metadata": {
            "needs_background": "light"
          }
        }
      ]
    },
    {
      "cell_type": "code",
      "source": [
        "minimizar(pobBin, nInd, n, d, nGen, pc, pm, codifBin, cruzaBin, mutarBin, 'Codificación binaria')"
      ],
      "metadata": {
        "colab": {
          "base_uri": "https://localhost:8080/",
          "height": 345
        },
        "id": "PavjLf6zzwvW",
        "outputId": "f07b3b89-75ea-4a25-b55e-d0c72b33813e"
      },
      "execution_count": null,
      "outputs": [
        {
          "output_type": "stream",
          "name": "stdout",
          "text": [
            "Se encontraron 0 soluciones:\n",
            "[]\n"
          ]
        },
        {
          "output_type": "display_data",
          "data": {
            "text/plain": [
              "<Figure size 432x288 with 1 Axes>"
            ],
            "image/png": "[encoded data removed]"
          },
          "metadata": {
            "needs_background": "light"
          }
        }
      ]
    },
    {
      "cell_type": "code",
      "source": [],
      "metadata": {
        "id": "JbizkdwVYkjq"
      },
      "execution_count": null,
      "outputs": []
    },
    {
      "cell_type": "code",
      "source": [
        "nGen = 1000\n",
        "nInd = 100\n",
        "pc = 0.3\n",
        "pm = 0.0001\n",
        "n = 10\n",
        "d = 5"
      ],
      "metadata": {
        "id": "tfB6necEYcp2"
      },
      "execution_count": null,
      "outputs": []
    },
    {
      "cell_type": "code",
      "source": [
        "minimizar(pobEnt, nInd, n, d, nGen, pc, pm, codifEnt, cruzaEnt, mutarEnt, 'Codificación entera')"
      ],
      "metadata": {
        "colab": {
          "base_uri": "https://localhost:8080/",
          "height": 379
        },
        "outputId": "8f39e75b-8c8c-42de-9592-d93ebe3a258a",
        "id": "uOKZJ-_pYcp8"
      },
      "execution_count": null,
      "outputs": [
        {
          "output_type": "stream",
          "name": "stdout",
          "text": [
            "Se encontraron 3 soluciones:\n",
            "[[3 5 8 4 9 0 6 1 7 2 0]\n",
            " [5 3 8 0 2 6 9 7 1 4 0]\n",
            " [5 3 8 0 2 9 6 1 7 4 0]]\n"
          ]
        },
        {
          "output_type": "display_data",
          "data": {
            "text/plain": [
              "<Figure size 432x288 with 1 Axes>"
            ],
            "image/png": "[encoded data removed]"
          },
          "metadata": {
            "needs_background": "light"
          }
        }
      ]
    },
    {
      "cell_type": "code",
      "source": [
        "minimizar(pobBin, nInd, n, d, nGen, pc, pm, codifBin, cruzaBin, mutarBin, 'Codificación binaria')"
      ],
      "metadata": {
        "colab": {
          "base_uri": "https://localhost:8080/",
          "height": 345
        },
        "outputId": "dd3681df-c041-4eda-b3d4-7d8bf5494c65",
        "id": "_Bhmt9QmYcp8"
      },
      "execution_count": null,
      "outputs": [
        {
          "output_type": "stream",
          "name": "stdout",
          "text": [
            "Se encontraron 0 soluciones:\n",
            "[]\n"
          ]
        },
        {
          "output_type": "display_data",
          "data": {
            "text/plain": [
              "<Figure size 432x288 with 1 Axes>"
            ],
            "image/png": "[encoded data removed]"
          },
          "metadata": {
            "needs_background": "light"
          }
        }
      ]
    },
    {
      "cell_type": "code",
      "source": [
        "nGen = 2000\n",
        "pc = 0.5\n",
        "pm = 1/60\n",
        "nInd = 60\n",
        "n = 10\n",
        "d = 5"
      ],
      "metadata": {
        "id": "sfVJ66tjqfR1"
      },
      "execution_count": null,
      "outputs": []
    },
    {
      "cell_type": "code",
      "source": [
        "minimizar(pobBin, nInd, n, d, nGen, pc, pm, codifBin, cruzaBin, mutarBin, 'Codificación binaria')"
      ],
      "metadata": {
        "colab": {
          "base_uri": "https://localhost:8080/",
          "height": 449
        },
        "id": "z6i5BpRUqlo8",
        "outputId": "76624341-9f47-4e78-9510-d189182a1b14"
      },
      "execution_count": null,
      "outputs": [
        {
          "output_type": "stream",
          "name": "stdout",
          "text": [
            "Se encontraron 522 soluciones:\n",
            "[[2 4 1 ... 6 0 0]\n",
            " [2 4 1 ... 6 0 0]\n",
            " [2 4 1 ... 6 0 0]\n",
            " ...\n",
            " [2 4 1 ... 6 0 0]\n",
            " [2 4 1 ... 6 0 0]\n",
            " [2 4 1 ... 6 0 0]]\n"
          ]
        },
        {
          "output_type": "display_data",
          "data": {
            "text/plain": [
              "<Figure size 432x288 with 1 Axes>"
            ],
            "image/png": "[encoded data removed]"
          },
          "metadata": {
            "needs_background": "light"
          }
        }
      ]
    },
    {
      "cell_type": "code",
      "source": [
        "minimizar(pobEnt, nInd, n, d, nGen, pc, pm, codifEnt, cruzaEnt, mutarEnt, 'Codificación entera')"
      ],
      "metadata": {
        "colab": {
          "base_uri": "https://localhost:8080/",
          "height": 518
        },
        "id": "SpHvI7WXq1hi",
        "outputId": "933d62ee-c1b7-4926-8db4-61e1ac4e7099"
      },
      "execution_count": null,
      "outputs": [
        {
          "output_type": "stream",
          "name": "stdout",
          "text": [
            "Se encontraron 11 soluciones:\n",
            "[[1 4 8 3 9 7 5 2 0 6 0]\n",
            " [1 7 2 8 6 4 9 0 5 3 0]\n",
            " [3 1 7 9 6 2 5 8 0 4 0]\n",
            " [5 7 4 1 8 6 3 0 2 9 0]\n",
            " [7 4 1 3 6 9 2 8 5 0 0]\n",
            " [7 4 1 3 8 6 2 9 5 0 0]\n",
            " [7 4 1 8 6 3 0 2 5 9 0]\n",
            " [7 4 1 8 6 3 0 2 9 5 0]\n",
            " [8 1 4 2 0 9 7 5 3 6 0]\n",
            " [8 4 1 3 0 9 7 5 2 6 0]\n",
            " [8 6 4 2 0 9 7 5 3 1 0]]\n"
          ]
        },
        {
          "output_type": "display_data",
          "data": {
            "text/plain": [
              "<Figure size 432x288 with 1 Axes>"
            ],
            "image/png": "[encoded data removed]"
          },
          "metadata": {
            "needs_background": "light"
          }
        }
      ]
    },
    {
      "cell_type": "code",
      "source": [],
      "metadata": {
        "id": "6Hfnsr8iq1VO"
      },
      "execution_count": null,
      "outputs": []
    },
    {
      "cell_type": "markdown",
      "source": [
        "## 1.3 Codificación real"
      ],
      "metadata": {
        "id": "co_1V9XrqJNC"
      }
    },
    {
      "cell_type": "code",
      "source": [],
      "metadata": {
        "id": "pBpI52xmZUT9"
      },
      "execution_count": null,
      "outputs": []
    }
  ]
}