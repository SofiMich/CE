{
  "nbformat": 4,
  "nbformat_minor": 0,
  "metadata": {
    "colab": {
      "provenance": [],
      "authorship_tag": "ABX9TyMroDW/a0+VgOOQM9nlvrtG",
      "include_colab_link": true
    },
    "kernelspec": {
      "name": "python3",
      "display_name": "Python 3"
    },
    "language_info": {
      "name": "python"
    }
  },
  "cells": [
    {
      "cell_type": "markdown",
      "metadata": {
        "id": "view-in-github",
        "colab_type": "text"
      },
      "source": [
        "<a href=\"https://colab.research.google.com/github/SofiMich/CE/blob/main/T4_CE_Michaelian_RegSimb.ipynb\" target=\"_parent\"><img src=\"https://colab.research.google.com/assets/colab-badge.svg\" alt=\"Open In Colab\"/></a>"
      ]
    },
    {
      "cell_type": "markdown",
      "source": [
        "#2. Regresión simbólica con tabla creada en clase\n"
      ],
      "metadata": {
        "id": "CVa0cvPSbgSX"
      }
    },
    {
      "cell_type": "code",
      "source": [
        "import numpy as np\n",
        "import pandas as pd\n",
        "import math\n",
        "import random"
      ],
      "metadata": {
        "id": "vrFc8RgVfYoT"
      },
      "execution_count": null,
      "outputs": []
    },
    {
      "cell_type": "code",
      "source": [
        "x = 1\n",
        "r = random.randint(1,10)\n",
        "\n",
        "def sum(x, y):\n",
        "  return x + y\n",
        "\n",
        "def times(x, y):\n",
        "  return x * y\n",
        "\n",
        "def dif(x, y):\n",
        "  return x - y\n",
        "\n",
        "def div(x, y):\n",
        "  if y != 0:\n",
        "   return x / y\n",
        "  else:\n",
        "    return x / (y + 0.0001) \n",
        "\n",
        "def cos(x):\n",
        "  return np.cos(x)\n",
        "\n",
        "def sin(x):\n",
        "  return np.sin(x)\n",
        "\n",
        "def log(x):\n",
        "  if x > 0: \n",
        "    return np.log(x)\n",
        "  else:\n",
        "    return 0\n",
        "\n",
        "def sqrt(x):\n",
        "  if x >= 0:\n",
        "    return np.sqrt(x)\n",
        "  else:\n",
        "    return 0\n",
        "\n",
        "def pow(x):\n",
        "  return np.power(x,2)\n",
        "\n",
        "\n",
        "functions = {\n",
        "  '+': sum,\n",
        "  '*': times,\n",
        "  '-': dif,\n",
        "  '%': div,\n",
        "  #'^': pow,\n",
        "  'cos': cos,\n",
        "  'sin': sin,\n",
        "  'log': log,\n",
        "  '√': sqrt\n",
        "}\n",
        "\n",
        "arguments = {\n",
        "  '+': 2,\n",
        "  '*': 2,\n",
        "  '-': 2,\n",
        "  '%': 2,\n",
        "  #'^': 1,\n",
        "  'cos': 1,\n",
        "  'sin': 1,\n",
        "  'log': 1,\n",
        "  '√': 1\n",
        "}\n",
        "\n",
        "terminals = {\n",
        "    'x': x,\n",
        "    'r': r,\n",
        "    '0': 0.0\n",
        "}\n",
        "\n",
        "f = {\n",
        "  -5.0 : -3.1,\n",
        "  -4.0 : -4.2,\n",
        "  -3.0 : 2.2,\n",
        "  -2.0 : -0.8,\n",
        "  -1.0 : 6.0,\n",
        "   0.0 : 2.5,\n",
        "   1.0 : -1.0,\n",
        "   2.0 : 5.0,\n",
        "   3.0 : -2.0,\n",
        "   4.0 : 10.0\n",
        "}\n",
        "\n",
        "f2 = {\n",
        "  -5.0 : -5,\n",
        "  -4.0 : -4,\n",
        "  -3.0 : -3,\n",
        "  -2.0 : -2,\n",
        "  -1.0 : -1,\n",
        "   0.0 : 0,\n",
        "   1.0 : 1,\n",
        "   2.0 : 2,\n",
        "   3.0 : 3,\n",
        "   4.0 : 4\n",
        "}\n"
      ],
      "metadata": {
        "id": "mptU_51bdpYP"
      },
      "execution_count": null,
      "outputs": []
    },
    {
      "cell_type": "code",
      "source": [
        "listaFunc = list(functions.keys())\n",
        "listaTerms = list(terminals.keys())"
      ],
      "metadata": {
        "id": "hAWdcHCPcz4X"
      },
      "execution_count": null,
      "outputs": []
    },
    {
      "cell_type": "code",
      "source": [
        "\n",
        "def seleccionarOp(individuo, nNodos,  nMaxNodos, nFunc, nMaxFunc, nArg, listaFunc, listaTerms):\n",
        "  if ((nNodos <= nMaxNodos) and (nArg > 0)):\n",
        "    a = random.randint(1,10)\n",
        "\n",
        "    if ((a <= 5) and (nFunc <= nMaxFunc)):\n",
        "      #print('Seleccionando función')\n",
        "      token = np.random.choice(listaFunc)\n",
        "      nArg = nArg + arguments[token]\n",
        "      nFunc = nFunc + 1\n",
        "      \n",
        "    else:\n",
        "      #print('Seleccionando terminal')\n",
        "      token = np.random.choice(listaTerms)\n",
        "      if(token == 'r'):\n",
        "        token = random.uniform(0, 10)\n",
        "\n",
        "    nNodos = nNodos + 1\n",
        "    nArg = nArg - 1\n",
        "    individuo.append(token)\n",
        "    #print(nNodos, token, nArg)\n",
        "\n",
        "    if ((nNodos <= nMaxNodos) and (nArg > 0)):\n",
        "      seleccionarOp(individuo, nNodos,  nMaxNodos, nFunc, nMaxFunc, nArg, listaFunc, listaTerms)\n",
        "    \n",
        "  return individuo"
      ],
      "metadata": {
        "id": "GyNVDntPsXnM"
      },
      "execution_count": null,
      "outputs": []
    },
    {
      "cell_type": "code",
      "source": [
        "def crearIndividuo(nMaxNodos, listaFunc, listaTerms):\n",
        "  individuo = []\n",
        "  nMaxFunc = nMaxNodos/2 - 1\n",
        "  nNodos = 0\n",
        "  nFunc = 0\n",
        "  nArg = 1\n",
        "  indivuduo = seleccionarOp(individuo, nNodos,  nMaxNodos, nFunc, nMaxFunc, nArg, listaFunc, listaTerms)\n",
        "  l = len(individuo)\n",
        "  n = nMaxNodos - len(individuo)\n",
        "  ceros = ['0']*n\n",
        "  individuo = individuo + ceros\n",
        "  return individuo, l"
      ],
      "metadata": {
        "id": "xodEcbaH1QTq"
      },
      "execution_count": null,
      "outputs": []
    },
    {
      "cell_type": "code",
      "source": [
        "individuo = crearIndividuo(10, listaFunc, listaTerms)\n",
        "print(individuo)"
      ],
      "metadata": {
        "colab": {
          "base_uri": "https://localhost:8080/"
        },
        "id": "rYg8ow4VXmjL",
        "outputId": "b9a0ccb9-8d5f-4765-f120-46e02d824aa2"
      },
      "execution_count": null,
      "outputs": [
        {
          "output_type": "stream",
          "name": "stdout",
          "text": [
            "(['x', '0', '0', '0', '0', '0', '0', '0', '0', '0'], 1)\n"
          ]
        }
      ]
    },
    {
      "cell_type": "code",
      "source": [
        "r = random.uniform(0, 10)\n",
        "print(r)"
      ],
      "metadata": {
        "colab": {
          "base_uri": "https://localhost:8080/"
        },
        "id": "i4cHcnE9a90n",
        "outputId": "1de4c37d-d914-4d4e-8d8c-93b7c53dc1bd"
      },
      "execution_count": null,
      "outputs": [
        {
          "output_type": "stream",
          "name": "stdout",
          "text": [
            "8.096970147039121\n"
          ]
        }
      ]
    },
    {
      "cell_type": "code",
      "source": [
        "def parse(tokens, terminals, functions):\n",
        "  if (len(tokens)) > 0:\n",
        "    token = tokens.pop(0)\n",
        "    if token in functions:\n",
        "        #print('Parse if in functions:')\n",
        "        if arguments[token] == 1:\n",
        "          return functions[token](parse(tokens, terminals, functions))\n",
        "        elif arguments[token] == 2:\n",
        "          return functions[token](parse(tokens, terminals, functions), parse(tokens, terminals, functions))\n",
        "    elif (token == 'x' or token == '0'):\n",
        "        return terminals[token]\n",
        "    else:\n",
        "        return token\n",
        "  else:\n",
        "    return 1"
      ],
      "metadata": {
        "id": "j7XPUW0nquRg"
      },
      "execution_count": null,
      "outputs": []
    },
    {
      "cell_type": "code",
      "source": [
        "individuo"
      ],
      "metadata": {
        "colab": {
          "base_uri": "https://localhost:8080/"
        },
        "id": "clq5T2rEbTj2",
        "outputId": "61625a12-c5e6-4f7c-bfdf-ae28dccd0cae"
      },
      "execution_count": null,
      "outputs": [
        {
          "output_type": "execute_result",
          "data": {
            "text/plain": [
              "(['x', '0', '0', '0', '0', '0', '0', '0', '0', '0'], 1)"
            ]
          },
          "metadata": {},
          "execution_count": 9
        }
      ]
    },
    {
      "cell_type": "code",
      "source": [
        "parse(individuo[0][0:4], terminals, functions)"
      ],
      "metadata": {
        "colab": {
          "base_uri": "https://localhost:8080/"
        },
        "id": "r-LeOuu3Zgd1",
        "outputId": "2c6d015a-06e6-4220-84fb-5088daffedbc"
      },
      "execution_count": null,
      "outputs": [
        {
          "output_type": "execute_result",
          "data": {
            "text/plain": [
              "1"
            ]
          },
          "metadata": {},
          "execution_count": 10
        }
      ]
    },
    {
      "cell_type": "code",
      "source": [
        "def crearPoblacion(nInd, nMaxNodos, listaFunc, listaTerms):\n",
        "  pob = []\n",
        "  l = []\n",
        "  for i in range(nInd):\n",
        "    individuo, l = crearIndividuo(nMaxNodos, listaFunc, listaTerms)\n",
        "    pob.append([individuo, l, 0])\n",
        "  return pob"
      ],
      "metadata": {
        "id": "D_vLCRKPXFZ_"
      },
      "execution_count": null,
      "outputs": []
    },
    {
      "cell_type": "code",
      "source": [
        "def evaluarIndividuo(individuo, objetivo, functions, terminals):\n",
        "  #print('evaluando')\n",
        "  error = 0\n",
        "  for key in objetivo:\n",
        "    y_expected = objetivo[key]\n",
        "    x = key\n",
        "    #print(individuo)\n",
        "    l = individuo[1]\n",
        "    #print(l)\n",
        "    if l > 0:\n",
        "      #print(individuo[0][0:l])\n",
        "      tokens = individuo[0][0:l]\n",
        "      #print(key)\n",
        "      y = parse(tokens, terminals, functions)\n",
        "    else:\n",
        "      y = 0\n",
        "    error = error + abs(y-y_expected)\n",
        "  error = error / len(objetivo)\n",
        "  individuo[-1] = error\n",
        "  #print('ya lo evalué')\n",
        "  #print(individuo)\n",
        "  #print(error)\n",
        "  return individuo, error"
      ],
      "metadata": {
        "id": "iTr96TlplaCG"
      },
      "execution_count": null,
      "outputs": []
    },
    {
      "cell_type": "code",
      "source": [
        "def evaluarPoblacion(pob, objetivo, functions, terminals):\n",
        "  #print('evaluar pob')\n",
        "  x = np.zeros(len(pob))\n",
        "  for i in range(len(pob)):\n",
        "    pob[i], x[i] = evaluarIndividuo(pob[i], objetivo, functions, terminals)\n",
        "  return pob, x"
      ],
      "metadata": {
        "id": "kt89OwgyeG7K"
      },
      "execution_count": null,
      "outputs": []
    },
    {
      "cell_type": "markdown",
      "source": [
        "### Calcular Fitness"
      ],
      "metadata": {
        "id": "r8OQfpdMTfu1"
      }
    },
    {
      "cell_type": "code",
      "source": [
        "def calcularFitness(pob):\n",
        "  total = np.sum(pob, axis = 0)[-1]\n",
        "  for i in range(len(pob)):\n",
        "    pob[i][-1] = pob[i][-1] / (total + np.nextafter(0,1))\n",
        "  return pob"
      ],
      "metadata": {
        "id": "e_zoFdeyADri"
      },
      "execution_count": null,
      "outputs": []
    },
    {
      "cell_type": "markdown",
      "source": [
        "### Calcular probabilidad de selección"
      ],
      "metadata": {
        "id": "dgjcfuyrTju3"
      }
    },
    {
      "cell_type": "code",
      "source": [
        "def calcularPS(x):\n",
        "  total = np.sum(x, axis = 0)[-1]\n",
        "  \n",
        "  for i in x:\n",
        "    if i[-1]/total >= 0:\n",
        "        i[-1] = i[-1]/total\n",
        "    else:\n",
        "        print('Probabilidad negativa!!!')\n",
        "        print(i)\n",
        "        i[-1] = np.nextafter(0,1)\n",
        "  return x"
      ],
      "metadata": {
        "id": "X8Vv04EZHMxq"
      },
      "execution_count": null,
      "outputs": []
    },
    {
      "cell_type": "markdown",
      "source": [
        "### Seleccionar individuos para el pool de cruza"
      ],
      "metadata": {
        "id": "mIJY-DMtTptB"
      }
    },
    {
      "cell_type": "code",
      "source": [
        "def seleccionarRuleta(pob):\n",
        "  #print('seleccionarRuleta')\n",
        "  pool = []\n",
        "  pob = calcularFitness(pob)\n",
        "  proba = np.zeros(len(pob))\n",
        "  for i in range(len(pob)):\n",
        "    proba[i] = pob[i][-1]\n",
        "    \n",
        "  for i in range(len(pob)):\n",
        "    r = np.random.choice(range(len(pob)), p = proba)\n",
        "    pool.append(pob[r][0:2])\n",
        "  return pool"
      ],
      "metadata": {
        "id": "1ZKIj-GkTH76"
      },
      "execution_count": null,
      "outputs": []
    },
    {
      "cell_type": "code",
      "source": [
        "def seleccionarTorneo(pob):\n",
        "  #print('seleccionarTorneo')\n",
        "  pool = []\n",
        "\n",
        "  for i in range(len(pob)):\n",
        "    j = random.choice(range(len(pob)))\n",
        "    k = random.choice(range(len(pob)))\n",
        "    if pob[j][-1] <= pob[k][-1]:\n",
        "      pool.append(pob[j][0:2])\n",
        "    else:\n",
        "      pool.append(pob[k][0:2])\n",
        "  return pool"
      ],
      "metadata": {
        "id": "d5vcc1ui22AY"
      },
      "execution_count": null,
      "outputs": []
    },
    {
      "cell_type": "markdown",
      "source": [
        "### Cruza"
      ],
      "metadata": {
        "id": "S8uar40VADa2"
      }
    },
    {
      "cell_type": "code",
      "source": [
        "def cruzar(pool, pc):\n",
        "  #print('cruzar')\n",
        "  nuevaGen = []\n",
        "\n",
        "  l = len(pool[0][0])\n",
        "\n",
        "  for i in range(len(pool)//2):\n",
        "    \n",
        "    padre1 = pool[2*i][0]\n",
        "    l1 = pool[2*i][1]\n",
        "\n",
        "    padre2 = pool[2*i+1][0]\n",
        "    l2 = pool[2*i+1][1]\n",
        "\n",
        "    r = random.uniform(0,1)\n",
        "\n",
        "    if r <= pc:\n",
        "      \n",
        "      n1 = random.randint(0,l1-1)\n",
        "      n2 = random.randint(0,l2-1)\n",
        "      \n",
        "      f1 = n1+(l2-n2)\n",
        "      f2 = n2+(l1-n1)\n",
        "\n",
        "      if (f1 <= l) and (f2 <= l):\n",
        "        #print('cruzando')\n",
        "\n",
        "        ceros = ['0']*(l-f1)\n",
        "        hijo1 = padre1[0:n1]+padre2[n2:l2]+ceros\n",
        "\n",
        "        ceros = ['0']*(l-f2)\n",
        "        hijo2 = padre2[0:n2]+padre1[n1:l1]+ceros\n",
        "\n",
        "      else:\n",
        "        hijo1 = padre1\n",
        "        hijo2 = padre2\n",
        "        f1 = l1\n",
        "        f2 = l2\n",
        "    \n",
        "    else:\n",
        "      hijo1 = padre1\n",
        "      hijo2 = padre2\n",
        "      f1 = l1\n",
        "      f2 = l2\n",
        "\n",
        "    #print(hijo1, hijo2)\n",
        "    nuevaGen.append([hijo1, f1, 0])\n",
        "    nuevaGen.append([hijo2, f2, 0])\n",
        "\n",
        "  return nuevaGen"
      ],
      "metadata": {
        "id": "GY9YyotVZfua"
      },
      "execution_count": null,
      "outputs": []
    },
    {
      "cell_type": "markdown",
      "source": [
        "### Mutación"
      ],
      "metadata": {
        "id": "9tHiOGhujLL-"
      }
    },
    {
      "cell_type": "code",
      "source": [
        "def mutar(nuevaGen, listaFunc, listaTerms, pm = 1):\n",
        "  #print('mutar')\n",
        "  l = len(nuevaGen[0][0])\n",
        "  #print(l)\n",
        "\n",
        "  for i in range(len(nuevaGen)):\n",
        "    prob = random.uniform(np.nextafter(0,1),1.0)\n",
        "    if prob <= pm:\n",
        "      l1 = nuevaGen[i][1]\n",
        "      #print(l1)\n",
        "      n = random.randint(0,l1-1)\n",
        "      mutacion = crearIndividuo(l-n, listaFunc, listaTerms)\n",
        "      #print(nuevaGen[i], mutacion, n)\n",
        "      #ceros = ['0']*(n+)\n",
        "      nuevaGen[i][0] = nuevaGen[i][0][0:n] + mutacion[0]\n",
        "      nuevaGen[i][1] = n + mutacion[1]\n",
        "      #print(nuevaGen[i])\n",
        "  return nuevaGen"
      ],
      "metadata": {
        "id": "ny1aPXv-jTAE"
      },
      "execution_count": null,
      "outputs": []
    },
    {
      "cell_type": "markdown",
      "source": [
        "# Elitismo"
      ],
      "metadata": {
        "id": "_D7qwrkp3DO6"
      }
    },
    {
      "cell_type": "code",
      "source": [
        "def elitismo1(pob, nuevaGen, mejor, objetivo, functions, terminals):\n",
        "  #print('elitismo1')\n",
        "  #print(mejor)\n",
        "  retadores = nuevaGen\n",
        "  retadores, y = evaluarPoblacion(retadores, objetivo, functions, terminals)\n",
        "  indMax = np.where(y == np.max(y))[0][0]\n",
        "  nuevaGen[indMax] = mejor\n",
        "  #print(nuevaGen[indMax])\n",
        "  return nuevaGen"
      ],
      "metadata": {
        "id": "iQnBRtV83GO5"
      },
      "execution_count": null,
      "outputs": []
    },
    {
      "cell_type": "code",
      "source": [
        "def elitismoT(pob, nuevaGen, mejor, objetivo, functions, terminals):\n",
        "    #print('elitismoT')\n",
        "    nInd = len(pob)\n",
        "    torneo = pob + nuevaGen\n",
        "    torneo, y = evaluarPoblacion(torneo, objetivo, functions, terminals)\n",
        "    indMin = np.argpartition(y, nInd) \n",
        "    j = 0\n",
        "    for k in range(nInd):\n",
        "      nuevaGen[k] = (np.array(torneo, dtype=object)[indMin.astype(int)][j]).tolist()\n",
        "      j = (j + 1)% nInd\n",
        "    return nuevaGen"
      ],
      "metadata": {
        "id": "myUCdEBz3Iy8"
      },
      "execution_count": null,
      "outputs": []
    },
    {
      "cell_type": "markdown",
      "source": [
        "# Evolucionar"
      ],
      "metadata": {
        "id": "qJeuzklf3PVQ"
      }
    },
    {
      "cell_type": "code",
      "source": [
        "def evolucionar(nInd, nMaxNodos, ngeneraciones, pc, pm, objetivo, functions, terminals, seleccionar, elitismo, nombre):\n",
        "  mejor = []  \n",
        "  promedio = np.zeros(ngeneraciones)\n",
        "\n",
        "  listaFunc = list(functions.keys())\n",
        "  #print(listaFunc)\n",
        "  listaTerms = list(terminals.keys())\n",
        "\n",
        "  pob = crearPoblacion(nInd, nMaxNodos, listaFunc, listaTerms)\n",
        "  #print(pob)\n",
        "\n",
        "  for i in range(ngeneraciones):\n",
        "\n",
        "    #print(i)\n",
        "    pob, x = evaluarPoblacion(pob, objetivo, functions, terminals)\n",
        "    #print(pob)\n",
        "\n",
        "    indMin = np.where(x == np.min(x))[0][0]\n",
        "    \n",
        "    #print(np.where(x == np.min(x))[0][0])\n",
        "    mejor.append(pob[indMin]) #guardamos al individuo con el mejor desempeño\n",
        "  \n",
        "    promedio[i] = np.sum(x) / len(pob) #calculamos el promedio del desempeño de la población\n",
        "\n",
        "    pool = seleccionar(pob)\n",
        "    #print(pob)\n",
        "\n",
        "    nuevaGen = cruzar(pool, pc)\n",
        "    #print(nuevaGen)\n",
        "\n",
        "    nuevaGen = mutar(nuevaGen, listaFunc, listaTerms, pm)\n",
        "    #print(nuevaGen)\n",
        "\n",
        "    #Elitismo:\n",
        "    nuevaGen = elitismo(pob, nuevaGen, mejor[i], objetivo, functions, terminals)\n",
        "    #print(nuevaGen)\n",
        "\n",
        "    pob = nuevaGen\n",
        "\n",
        "# Graficar\n",
        "  import matplotlib.pyplot as plt\n",
        "\n",
        "  plt.axes(xlabel='Generación', ylabel = 'Error')\n",
        "  plt.title('Desempeño ' + str(nInd) + ' individuos en ' +str(ngeneraciones) + ' generaciones\\n '+ nombre)\n",
        "\n",
        "  mejores, y = evaluarPoblacion(mejor, objetivo, functions, terminals)\n",
        "  plt.plot(promedio)\n",
        "  plt.plot(y)\n",
        "  #print(y)\n",
        "\n",
        "  plt.legend(labels=[\"Promedio\",\"Mejor individuo\"])\n",
        "  plt.show\n",
        "\n",
        "  return mejores\n"
      ],
      "metadata": {
        "id": "3DUTCHVfoYWS"
      },
      "execution_count": null,
      "outputs": []
    },
    {
      "cell_type": "code",
      "source": [
        "nGen = 10\n",
        "nInd = 100\n",
        "pc = 0.7\n",
        "pm = 0.2\n",
        "nMaxNodos = 5\n",
        "objetivo = f2"
      ],
      "metadata": {
        "id": "Rrv3V_bZ79dE"
      },
      "execution_count": null,
      "outputs": []
    },
    {
      "cell_type": "code",
      "source": [
        "mejores = evolucionar(nInd, nMaxNodos, nGen, pc, pm, f2, functions, terminals, seleccionarTorneo, elitismoT, 'Selección por torneo, elitismo total')"
      ],
      "metadata": {
        "id": "ITfanZHp4FC1",
        "colab": {
          "base_uri": "https://localhost:8080/",
          "height": 310
        },
        "outputId": "b9c7f4f2-ba40-4b8a-dee6-500c904ff434"
      },
      "execution_count": null,
      "outputs": [
        {
          "output_type": "display_data",
          "data": {
            "text/plain": [
              "<Figure size 432x288 with 1 Axes>"
            ],
            "image/png": "[encoded data removed]"
          },
          "metadata": {
            "needs_background": "light"
          }
        }
      ]
    },
    {
      "cell_type": "code",
      "source": [
        "print(mejores)"
      ],
      "metadata": {
        "colab": {
          "base_uri": "https://localhost:8080/"
        },
        "id": "QuFiNb_GqtpG",
        "outputId": "8c91cb34-18c4-496e-c6ab-2d72820321a8"
      },
      "execution_count": null,
      "outputs": [
        {
          "output_type": "stream",
          "name": "stdout",
          "text": [
            "[[['*', '*', 9.19249465546894, '0', 'x'], 5, 2.5], [['cos', '%', 3.0751904362637106, 'x', '0'], 4, 2.4999999999999996], [['cos', '%', 3.0751904362637106, 'x', '0'], 4, 2.4999999999999996], [['cos', '%', 3.0751904362637106, 'x', '0'], 4, 2.4999999999999996], [['cos', '%', 3.0751904362637106, 'x', '0'], 4, 2.4999999999999996], [['cos', '%', 3.0751904362637106, 'x', '0'], 4, 2.4999999999999996], [['cos', 3.0751904362637106, '0', '0', '0'], 3, 2.4999999999999996], [['cos', 3.0751904362637106, 'x', '0', '0'], 3, 2.4999999999999996], [['cos', 3.0751904362637106, 'x', '0', '0'], 3, 2.4999999999999996], [['cos', 2.100875009002295, '0', '0', '0'], 2, 2.4999999999999996]]\n"
          ]
        }
      ]
    },
    {
      "cell_type": "code",
      "source": [
        "print(mejores[-1])"
      ],
      "metadata": {
        "colab": {
          "base_uri": "https://localhost:8080/"
        },
        "id": "tFisb3xj0T8Y",
        "outputId": "a9fc3cd7-0c11-4a6f-979f-a2c777a0ed46"
      },
      "execution_count": null,
      "outputs": [
        {
          "output_type": "stream",
          "name": "stdout",
          "text": [
            "[['cos', 2.100875009002295, '0', '0', '0'], 2, 2.4999999999999996]\n"
          ]
        }
      ]
    },
    {
      "cell_type": "code",
      "source": [
        "mejores = evolucionar(nInd, nMaxNodos, nGen, pc, pm, f2, functions, terminals, seleccionarTorneo, elitismo1, 'Selección por torneo, elitismo de uno')"
      ],
      "metadata": {
        "id": "PavjLf6zzwvW",
        "colab": {
          "base_uri": "https://localhost:8080/",
          "height": 310
        },
        "outputId": "3863c1b2-a487-427a-afd4-5312508fd26b"
      },
      "execution_count": null,
      "outputs": [
        {
          "output_type": "display_data",
          "data": {
            "text/plain": [
              "<Figure size 432x288 with 1 Axes>"
            ],
            "image/png": "[encoded data removed]"
          },
          "metadata": {
            "needs_background": "light"
          }
        }
      ]
    },
    {
      "cell_type": "code",
      "source": [
        "mejores[-1]"
      ],
      "metadata": {
        "id": "HQzP3Z-9I5Zr",
        "colab": {
          "base_uri": "https://localhost:8080/"
        },
        "outputId": "e540a3d1-93e8-438a-d665-0a2b411e5ada"
      },
      "execution_count": null,
      "outputs": [
        {
          "output_type": "execute_result",
          "data": {
            "text/plain": [
              "[['sin', 3.161077998076186, '0', '0', '0'], 2, 2.4999999999999996]"
            ]
          },
          "metadata": {},
          "execution_count": 76
        }
      ]
    },
    {
      "cell_type": "code",
      "source": [],
      "metadata": {
        "id": "a1sOE-3N5R7A"
      },
      "execution_count": null,
      "outputs": []
    }
  ]
}
